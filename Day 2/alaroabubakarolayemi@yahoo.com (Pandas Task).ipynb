{
 "cells": [
  {
   "cell_type": "markdown",
   "metadata": {},
   "source": [
    "# Pandas Tasks"
   ]
  },
  {
   "cell_type": "markdown",
   "metadata": {},
   "source": [
    "In the task below, you will practice what you have learnt in the pandas tutorial. "
   ]
  },
  {
   "cell_type": "markdown",
   "metadata": {},
   "source": [
    "## Task 1"
   ]
  },
  {
   "cell_type": "markdown",
   "metadata": {},
   "source": [
    "#### Question 1. Identify two ways of creating a pandas DataFrame and create a dataframe with ten columns and twenty rows for each way "
   ]
  },
  {
   "cell_type": "code",
   "execution_count": null,
   "metadata": {},
   "outputs": [],
   "source": [
    "import pandas as pd\n",
    "# 1. using a list\n",
    "names = ['Abubakar', 'Alaro', 'Academy', 'Yabebal', 'Arun', 'Abuton', 'pandas', 'task',\n",
    "        'Precious', 'AbdulMaleek', 'Amina', 'Lawal', 'Lateef', 'Sulyman', 'Lordghost',\n",
    "        'Sharma', 'Bolaji', 'Abdulroqeeb', 'Adejoke', 'Maryam']\n",
    "scores = [80, 77,67, 87, 67, 45, 32, 67, 90, 56, 88, 65, 4, 6, 66, 37, 60, 88, 66, 77]\n",
    "age = [21, 13, 33, 22, 27, 18, 19, 15, 12, 18, 19, 24, 27, 45, 58, 59, 12, 12, 19, 21]\n",
    "sex = ['male','male','male','male','male','male','male','male','male','male','male','male',\n",
    "      'male', 'female','female','female','female','female','female','female']\n",
    "subject = ['math', 'english', 'physics', 'math', 'english', 'chemistry', 'math', 'physics', 'math',\n",
    "          'biology', 'physics', 'chemistry', 'math', 'english', 'english', 'math', 'biology',\n",
    "           'physics', 'english', 'biology']\n",
    "height = [8.2, 7.5,6.3, 8.6, 6.6, 4.3, 3.2, 6.7, 9.10, 5.46, 8.8, 6.5, 4.8, 6.6, 6.6, 3.7, 6.0,\n",
    "          8.8, 6.6, 7.7]\n",
    "weight = [80, 77,67, 87, 67, 45, 32, 67, 90, 56, 88, 65, 4, 6, 66, 37, 60, 88, 66, 77]\n",
    "hobby =  ['swimming', 'dancing', 'football', 'hiking', 'skating', 'jumping', 'laughing',\n",
    "          'swimming', 'football', 'dancing', 'physics', 'hiking', 'dancing', 'dancing', \n",
    "          'hiking', 'swimming', 'biology',  'laughing', 'laughing', 'hiking']\n",
    "sports = ['football', 'basketball', 'football', 'football', 'skating', 'f1', 'hockey',\n",
    "          'tennis', 'football', 'vollyball', 'cricket', 'f1', 'badmiton', 'basketball', \n",
    "          'basketball', 'cricket', 'cricket',  'badmiton', 'cricket', 'basketball']\n",
    "gp = [3.2, 3.5,2.3, 4.6, 1.6, 4.3, 3.2, 2.7, 1.10, 5.0, 4.8, 4.5, 4.8, 3.6, 1.6, 3.7, 2.0, 4.8, 3.2, 1]\n",
    "\n",
    "# using a list\n",
    "df_using_list = pd.DataFrame(zip(names, scores, age, sex, subject, height, weight, hobby, sports, gp),\n",
    "                            columns=['Name', 'Scores', 'Age', 'Sex', 'Subject', 'Height', 'Weight',\n",
    "                                    'Hobby', 'Sport', 'Gp'])\n",
    "df_using_list.head()"
   ]
  },
  {
   "cell_type": "code",
   "execution_count": null,
   "metadata": {},
   "outputs": [],
   "source": [
    "my_data = {\n",
    "    'Name':names,\n",
    "    'Scores':scores,\n",
    "    'Age':age,\n",
    "    'Sex':sex,\n",
    "    'Subject':subject,\n",
    "    'Height':height,\n",
    "    'Weight':weight,\n",
    "    'Hobby':hobby,\n",
    "    'Sport':sports,\n",
    "    'Gp':gp\n",
    "}\n",
    "df_using_dict = pd.DataFrame(my_data)\n",
    "df_using_dict"
   ]
  },
  {
   "cell_type": "code",
   "execution_count": null,
   "metadata": {},
   "outputs": [],
   "source": [
    "df_using_list.shape"
   ]
  },
  {
   "cell_type": "code",
   "execution_count": null,
   "metadata": {},
   "outputs": [],
   "source": [
    "df_using_dict.shape"
   ]
  },
  {
   "cell_type": "markdown",
   "metadata": {},
   "source": [
    "#### Question 2. Show a summary of your dataframe with column names, non null count and dtypes for the columns"
   ]
  },
  {
   "cell_type": "code",
   "execution_count": null,
   "metadata": {},
   "outputs": [],
   "source": [
    "df_using_list.info()"
   ]
  },
  {
   "cell_type": "code",
   "execution_count": null,
   "metadata": {},
   "outputs": [],
   "source": [
    "df_using_dict.info()"
   ]
  },
  {
   "cell_type": "markdown",
   "metadata": {},
   "source": [
    "#### Question 3. Again show a summary of your dataframe, this time, showing the mean, count, standard deviation, minimum number etc for all the numerical columns"
   ]
  },
  {
   "cell_type": "code",
   "execution_count": null,
   "metadata": {},
   "outputs": [],
   "source": [
    "df_using_list.describe()"
   ]
  },
  {
   "cell_type": "code",
   "execution_count": null,
   "metadata": {},
   "outputs": [],
   "source": [
    "df_using_dict.describe()"
   ]
  },
  {
   "cell_type": "markdown",
   "metadata": {},
   "source": [
    "#### Question 4. Show the number of unique values in all the columns in your dataframe"
   ]
  },
  {
   "cell_type": "code",
   "execution_count": null,
   "metadata": {},
   "outputs": [],
   "source": [
    "df_using_list.nunique()"
   ]
  },
  {
   "cell_type": "code",
   "execution_count": null,
   "metadata": {},
   "outputs": [],
   "source": [
    "df_using_dict.nunique()"
   ]
  },
  {
   "cell_type": "code",
   "execution_count": null,
   "metadata": {},
   "outputs": [],
   "source": []
  }
 ],
 "metadata": {
  "kernelspec": {
   "display_name": "Python 3",
   "language": "python",
   "name": "python3"
  },
  "language_info": {
   "codemirror_mode": {
    "name": "ipython",
    "version": 3
   },
   "file_extension": ".py",
   "mimetype": "text/x-python",
   "name": "python",
   "nbconvert_exporter": "python",
   "pygments_lexer": "ipython3",
   "version": "3.7.4"
  }
 },
 "nbformat": 4,
 "nbformat_minor": 4
}
