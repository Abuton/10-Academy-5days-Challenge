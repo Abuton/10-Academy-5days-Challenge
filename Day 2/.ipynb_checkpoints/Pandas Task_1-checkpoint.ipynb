{
 "cells": [
  {
   "cell_type": "markdown",
   "metadata": {},
   "source": [
    "# Pandas Tasks"
   ]
  },
  {
   "cell_type": "markdown",
   "metadata": {},
   "source": [
    "In the task below, you will practice what you have learnt in the pandas tutorial. "
   ]
  },
  {
   "cell_type": "markdown",
   "metadata": {},
   "source": [
    "## Task 1"
   ]
  },
  {
   "cell_type": "markdown",
   "metadata": {},
   "source": [
    "#### Question 1. Identify two ways of creating a pandas DataFrame and create a dataframe with ten columns and twenty rows for each way "
   ]
  },
  {
   "cell_type": "code",
   "execution_count": 15,
   "metadata": {},
   "outputs": [
    {
     "data": {
      "text/html": [
       "<div>\n",
       "<style scoped>\n",
       "    .dataframe tbody tr th:only-of-type {\n",
       "        vertical-align: middle;\n",
       "    }\n",
       "\n",
       "    .dataframe tbody tr th {\n",
       "        vertical-align: top;\n",
       "    }\n",
       "\n",
       "    .dataframe thead th {\n",
       "        text-align: right;\n",
       "    }\n",
       "</style>\n",
       "<table border=\"1\" class=\"dataframe\">\n",
       "  <thead>\n",
       "    <tr style=\"text-align: right;\">\n",
       "      <th></th>\n",
       "      <th>Name</th>\n",
       "      <th>Scores</th>\n",
       "      <th>Age</th>\n",
       "      <th>Sex</th>\n",
       "      <th>Subject</th>\n",
       "      <th>Height</th>\n",
       "      <th>Weight</th>\n",
       "      <th>Hobby</th>\n",
       "      <th>Sport</th>\n",
       "      <th>Gp</th>\n",
       "    </tr>\n",
       "  </thead>\n",
       "  <tbody>\n",
       "    <tr>\n",
       "      <th>0</th>\n",
       "      <td>Abubakar</td>\n",
       "      <td>80</td>\n",
       "      <td>21</td>\n",
       "      <td>male</td>\n",
       "      <td>math</td>\n",
       "      <td>8.2</td>\n",
       "      <td>80</td>\n",
       "      <td>swimming</td>\n",
       "      <td>football</td>\n",
       "      <td>3.2</td>\n",
       "    </tr>\n",
       "    <tr>\n",
       "      <th>1</th>\n",
       "      <td>Alaro</td>\n",
       "      <td>77</td>\n",
       "      <td>13</td>\n",
       "      <td>male</td>\n",
       "      <td>english</td>\n",
       "      <td>7.5</td>\n",
       "      <td>77</td>\n",
       "      <td>dancing</td>\n",
       "      <td>basketball</td>\n",
       "      <td>3.5</td>\n",
       "    </tr>\n",
       "    <tr>\n",
       "      <th>2</th>\n",
       "      <td>Academy</td>\n",
       "      <td>67</td>\n",
       "      <td>33</td>\n",
       "      <td>male</td>\n",
       "      <td>physics</td>\n",
       "      <td>6.3</td>\n",
       "      <td>67</td>\n",
       "      <td>football</td>\n",
       "      <td>football</td>\n",
       "      <td>2.3</td>\n",
       "    </tr>\n",
       "    <tr>\n",
       "      <th>3</th>\n",
       "      <td>Yabebal</td>\n",
       "      <td>87</td>\n",
       "      <td>22</td>\n",
       "      <td>male</td>\n",
       "      <td>math</td>\n",
       "      <td>8.6</td>\n",
       "      <td>87</td>\n",
       "      <td>hiking</td>\n",
       "      <td>football</td>\n",
       "      <td>4.6</td>\n",
       "    </tr>\n",
       "    <tr>\n",
       "      <th>4</th>\n",
       "      <td>Arun</td>\n",
       "      <td>67</td>\n",
       "      <td>27</td>\n",
       "      <td>male</td>\n",
       "      <td>english</td>\n",
       "      <td>6.6</td>\n",
       "      <td>67</td>\n",
       "      <td>skating</td>\n",
       "      <td>skating</td>\n",
       "      <td>1.6</td>\n",
       "    </tr>\n",
       "  </tbody>\n",
       "</table>\n",
       "</div>"
      ],
      "text/plain": [
       "       Name  Scores  Age   Sex  Subject  Height  Weight     Hobby       Sport  \\\n",
       "0  Abubakar      80   21  male     math     8.2      80  swimming    football   \n",
       "1     Alaro      77   13  male  english     7.5      77   dancing  basketball   \n",
       "2   Academy      67   33  male  physics     6.3      67  football    football   \n",
       "3   Yabebal      87   22  male     math     8.6      87    hiking    football   \n",
       "4      Arun      67   27  male  english     6.6      67   skating     skating   \n",
       "\n",
       "    Gp  \n",
       "0  3.2  \n",
       "1  3.5  \n",
       "2  2.3  \n",
       "3  4.6  \n",
       "4  1.6  "
      ]
     },
     "execution_count": 15,
     "metadata": {},
     "output_type": "execute_result"
    }
   ],
   "source": [
    "import pandas as pd\n",
    "# 1. using a list\n",
    "names = ['Abubakar', 'Alaro', 'Academy', 'Yabebal', 'Arun', 'Abuton', 'pandas', 'task',\n",
    "        'Precious', 'AbdulMaleek', 'Amina', 'Lawal', 'Lateef', 'Sulyman', 'Lordghost',\n",
    "        'Sharma', 'Bolaji', 'Abdulroqeeb', 'Adejoke', 'Maryam']\n",
    "scores = [80, 77,67, 87, 67, 45, 32, 67, 90, 56, 88, 65, 4, 6, 66, 37, 60, 88, 66, 77]\n",
    "age = [21, 13, 33, 22, 27, 18, 19, 15, 12, 18, 19, 24, 27, 45, 58, 59, 12, 12, 19, 21]\n",
    "sex = ['male','male','male','male','male','male','male','male','male','male','male','male',\n",
    "      'male', 'female','female','female','female','female','female','female']\n",
    "subject = ['math', 'english', 'physics', 'math', 'english', 'chemistry', 'math', 'physics', 'math',\n",
    "          'biology', 'physics', 'chemistry', 'math', 'english', 'english', 'math', 'biology',\n",
    "           'physics', 'english', 'biology']\n",
    "height = [8.2, 7.5,6.3, 8.6, 6.6, 4.3, 3.2, 6.7, 9.10, 5.46, 8.8, 6.5, 4.8, 6.6, 6.6, 3.7, 6.0,\n",
    "          8.8, 6.6, 7.7]\n",
    "weight = [80, 77,67, 87, 67, 45, 32, 67, 90, 56, 88, 65, 4, 6, 66, 37, 60, 88, 66, 77]\n",
    "hobby =  ['swimming', 'dancing', 'football', 'hiking', 'skating', 'jumping', 'laughing',\n",
    "          'swimming', 'football', 'dancing', 'physics', 'hiking', 'dancing', 'dancing', \n",
    "          'hiking', 'swimming', 'biology',  'laughing', 'laughing', 'hiking']\n",
    "sports = ['football', 'basketball', 'football', 'football', 'skating', 'f1', 'hockey',\n",
    "          'tennis', 'football', 'vollyball', 'cricket', 'f1', 'badmiton', 'basketball', \n",
    "          'basketball', 'cricket', 'cricket',  'badmiton', 'cricket', 'basketball']\n",
    "gp = [3.2, 3.5,2.3, 4.6, 1.6, 4.3, 3.2, 2.7, 1.10, 5.0, 4.8, 4.5, 4.8, 3.6, 1.6, 3.7, 2.0, 4.8, 3.2, 1]\n",
    "\n",
    "# using a list\n",
    "df_using_list = pd.DataFrame(zip(names, scores, age, sex, subject, height, weight, hobby, sports, gp),\n",
    "                            columns=['Name', 'Scores', 'Age', 'Sex', 'Subject', 'Height', 'Weight',\n",
    "                                    'Hobby', 'Sport', 'Gp'])\n",
    "df_using_list.head()"
   ]
  },
  {
   "cell_type": "code",
   "execution_count": 18,
   "metadata": {},
   "outputs": [
    {
     "data": {
      "text/plain": [
       "(20, 10)"
      ]
     },
     "execution_count": 18,
     "metadata": {},
     "output_type": "execute_result"
    }
   ],
   "source": [
    "df_using_list.shape"
   ]
  },
  {
   "cell_type": "markdown",
   "metadata": {},
   "source": [
    "#### Question 2. Show a summary of your dataframe with column names, non null count and dtypes for the columns"
   ]
  },
  {
   "cell_type": "code",
   "execution_count": 20,
   "metadata": {},
   "outputs": [
    {
     "name": "stdout",
     "output_type": "stream",
     "text": [
      "<class 'pandas.core.frame.DataFrame'>\n",
      "RangeIndex: 20 entries, 0 to 19\n",
      "Data columns (total 10 columns):\n",
      " #   Column   Non-Null Count  Dtype  \n",
      "---  ------   --------------  -----  \n",
      " 0   Name     20 non-null     object \n",
      " 1   Scores   20 non-null     int64  \n",
      " 2   Age      20 non-null     int64  \n",
      " 3   Sex      20 non-null     object \n",
      " 4   Subject  20 non-null     object \n",
      " 5   Height   20 non-null     float64\n",
      " 6   Weight   20 non-null     int64  \n",
      " 7   Hobby    20 non-null     object \n",
      " 8   Sport    20 non-null     object \n",
      " 9   Gp       20 non-null     float64\n",
      "dtypes: float64(2), int64(3), object(5)\n",
      "memory usage: 1.7+ KB\n"
     ]
    }
   ],
   "source": [
    "df_using_list.info()"
   ]
  },
  {
   "cell_type": "markdown",
   "metadata": {},
   "source": [
    "#### Question 3. Again show a summary of your dataframe, this time, showing the mean, count, standard deviation, minimum number etc for all the numerical columns"
   ]
  },
  {
   "cell_type": "code",
   "execution_count": 21,
   "metadata": {},
   "outputs": [
    {
     "data": {
      "text/html": [
       "<div>\n",
       "<style scoped>\n",
       "    .dataframe tbody tr th:only-of-type {\n",
       "        vertical-align: middle;\n",
       "    }\n",
       "\n",
       "    .dataframe tbody tr th {\n",
       "        vertical-align: top;\n",
       "    }\n",
       "\n",
       "    .dataframe thead th {\n",
       "        text-align: right;\n",
       "    }\n",
       "</style>\n",
       "<table border=\"1\" class=\"dataframe\">\n",
       "  <thead>\n",
       "    <tr style=\"text-align: right;\">\n",
       "      <th></th>\n",
       "      <th>Scores</th>\n",
       "      <th>Age</th>\n",
       "      <th>Height</th>\n",
       "      <th>Weight</th>\n",
       "      <th>Gp</th>\n",
       "    </tr>\n",
       "  </thead>\n",
       "  <tbody>\n",
       "    <tr>\n",
       "      <th>count</th>\n",
       "      <td>20.000000</td>\n",
       "      <td>20.000000</td>\n",
       "      <td>20.000000</td>\n",
       "      <td>20.000000</td>\n",
       "      <td>20.000000</td>\n",
       "    </tr>\n",
       "    <tr>\n",
       "      <th>mean</th>\n",
       "      <td>61.250000</td>\n",
       "      <td>24.700000</td>\n",
       "      <td>6.603000</td>\n",
       "      <td>61.250000</td>\n",
       "      <td>3.275000</td>\n",
       "    </tr>\n",
       "    <tr>\n",
       "      <th>std</th>\n",
       "      <td>25.124689</td>\n",
       "      <td>13.981567</td>\n",
       "      <td>1.697977</td>\n",
       "      <td>25.124689</td>\n",
       "      <td>1.318642</td>\n",
       "    </tr>\n",
       "    <tr>\n",
       "      <th>min</th>\n",
       "      <td>4.000000</td>\n",
       "      <td>12.000000</td>\n",
       "      <td>3.200000</td>\n",
       "      <td>4.000000</td>\n",
       "      <td>1.000000</td>\n",
       "    </tr>\n",
       "    <tr>\n",
       "      <th>25%</th>\n",
       "      <td>53.250000</td>\n",
       "      <td>17.250000</td>\n",
       "      <td>5.865000</td>\n",
       "      <td>53.250000</td>\n",
       "      <td>2.225000</td>\n",
       "    </tr>\n",
       "    <tr>\n",
       "      <th>50%</th>\n",
       "      <td>66.500000</td>\n",
       "      <td>20.000000</td>\n",
       "      <td>6.600000</td>\n",
       "      <td>66.500000</td>\n",
       "      <td>3.350000</td>\n",
       "    </tr>\n",
       "    <tr>\n",
       "      <th>75%</th>\n",
       "      <td>77.750000</td>\n",
       "      <td>27.000000</td>\n",
       "      <td>7.825000</td>\n",
       "      <td>77.750000</td>\n",
       "      <td>4.525000</td>\n",
       "    </tr>\n",
       "    <tr>\n",
       "      <th>max</th>\n",
       "      <td>90.000000</td>\n",
       "      <td>59.000000</td>\n",
       "      <td>9.100000</td>\n",
       "      <td>90.000000</td>\n",
       "      <td>5.000000</td>\n",
       "    </tr>\n",
       "  </tbody>\n",
       "</table>\n",
       "</div>"
      ],
      "text/plain": [
       "          Scores        Age     Height     Weight         Gp\n",
       "count  20.000000  20.000000  20.000000  20.000000  20.000000\n",
       "mean   61.250000  24.700000   6.603000  61.250000   3.275000\n",
       "std    25.124689  13.981567   1.697977  25.124689   1.318642\n",
       "min     4.000000  12.000000   3.200000   4.000000   1.000000\n",
       "25%    53.250000  17.250000   5.865000  53.250000   2.225000\n",
       "50%    66.500000  20.000000   6.600000  66.500000   3.350000\n",
       "75%    77.750000  27.000000   7.825000  77.750000   4.525000\n",
       "max    90.000000  59.000000   9.100000  90.000000   5.000000"
      ]
     },
     "execution_count": 21,
     "metadata": {},
     "output_type": "execute_result"
    }
   ],
   "source": [
    "df_using_list.describe()"
   ]
  },
  {
   "cell_type": "markdown",
   "metadata": {},
   "source": [
    "#### Question 4. Show the number of unique values in all the columns in your dataframe"
   ]
  },
  {
   "cell_type": "code",
   "execution_count": null,
   "metadata": {},
   "outputs": [],
   "source": []
  }
 ],
 "metadata": {
  "kernelspec": {
   "display_name": "Python 3",
   "language": "python",
   "name": "python3"
  },
  "language_info": {
   "codemirror_mode": {
    "name": "ipython",
    "version": 3
   },
   "file_extension": ".py",
   "mimetype": "text/x-python",
   "name": "python",
   "nbconvert_exporter": "python",
   "pygments_lexer": "ipython3",
   "version": "3.7.4"
  }
 },
 "nbformat": 4,
 "nbformat_minor": 4
}
