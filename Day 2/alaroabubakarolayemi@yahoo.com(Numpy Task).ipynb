{
 "cells": [
  {
   "cell_type": "markdown",
   "metadata": {},
   "source": [
    "# Numpy Tasks"
   ]
  },
  {
   "cell_type": "markdown",
   "metadata": {},
   "source": [
    "## Task_1"
   ]
  },
  {
   "cell_type": "markdown",
   "metadata": {},
   "source": [
    "#### Question 1. Create a numpy array with 6X5 2D array from 10 upwards"
   ]
  },
  {
   "cell_type": "code",
   "execution_count": 25,
   "metadata": {},
   "outputs": [
    {
     "data": {
      "text/plain": [
       "array([[10, 12, 14, 16, 18],\n",
       "       [20, 22, 24, 26, 28],\n",
       "       [30, 32, 34, 36, 38],\n",
       "       [40, 42, 44, 46, 48],\n",
       "       [50, 52, 54, 56, 58],\n",
       "       [60, 62, 64, 66, 68]])"
      ]
     },
     "execution_count": 25,
     "metadata": {},
     "output_type": "execute_result"
    }
   ],
   "source": [
    "import numpy as np\n",
    "my_array = np.arange(10, 69, 2).reshape(6,5)\n",
    "my_array"
   ]
  },
  {
   "cell_type": "markdown",
   "metadata": {},
   "source": [
    "#### Question 2. From question 1, reshape the numpy array to any shape of your choice and return the max value from each column."
   ]
  },
  {
   "cell_type": "code",
   "execution_count": 33,
   "metadata": {},
   "outputs": [
    {
     "name": "stdout",
     "output_type": "stream",
     "text": [
      "[[10 12 14 16 18 20]\n",
      " [22 24 26 28 30 32]\n",
      " [34 36 38 40 42 44]\n",
      " [46 48 50 52 54 56]\n",
      " [58 60 62 64 66 68]]\n",
      "\n",
      "Maximum of Each Column==> [58 60 62 64 66 68]\n"
     ]
    }
   ],
   "source": [
    "reshaped_arr = my_array.reshape(-1, 6)\n",
    "print(reshaped_arr)\n",
    "max_val_col1 = reshaped_arr.max(axis=0)\n",
    "print('\\nMaximum of Each Column ==>', max_val_col1)"
   ]
  },
  {
   "cell_type": "markdown",
   "metadata": {},
   "source": [
    "#### Question 3. Create a numpy array A with np.ones with a shape of (3,4). Create another array using the np.arange with a shape of (3,4). "
   ]
  },
  {
   "cell_type": "code",
   "execution_count": 37,
   "metadata": {},
   "outputs": [
    {
     "name": "stdout",
     "output_type": "stream",
     "text": [
      "[[1. 1. 1. 1.]\n",
      " [1. 1. 1. 1.]\n",
      " [1. 1. 1. 1.]]\n",
      "\n",
      "[[ 2  4  6  8]\n",
      " [10 12 14 16]\n",
      " [18 20 22 24]]\n"
     ]
    }
   ],
   "source": [
    "A = np.ones((3, 4))\n",
    "print(A)\n",
    "B = np.arange(2, 25, 2).reshape(3, 4)\n",
    "print()\n",
    "print(B)"
   ]
  },
  {
   "cell_type": "markdown",
   "metadata": {},
   "source": [
    "#### Question 4. Perform arithmetic operations (+,-,*,/) on the two arrays from question 3."
   ]
  },
  {
   "cell_type": "code",
   "execution_count": 40,
   "metadata": {},
   "outputs": [
    {
     "name": "stdout",
     "output_type": "stream",
     "text": [
      "Addition ==> \n",
      " [[ 3.  5.  7.  9.]\n",
      " [11. 13. 15. 17.]\n",
      " [19. 21. 23. 25.]]\n",
      "Subtraction ==> \n",
      " [[ -1.  -3.  -5.  -7.]\n",
      " [ -9. -11. -13. -15.]\n",
      " [-17. -19. -21. -23.]]\n",
      "Multiplication ==> \n",
      " [[ 2.  4.  6.  8.]\n",
      " [10. 12. 14. 16.]\n",
      " [18. 20. 22. 24.]]\n",
      "Division ==> \n",
      " [[0.5        0.25       0.16666667 0.125     ]\n",
      " [0.1        0.08333333 0.07142857 0.0625    ]\n",
      " [0.05555556 0.05       0.04545455 0.04166667]]\n"
     ]
    }
   ],
   "source": [
    "addition = A+B\n",
    "subtraction = A-B\n",
    "multiplication = A*B\n",
    "division = A/B\n",
    "\n",
    "print('Addition ==> \\n', addition)\n",
    "print('Subtraction ==> \\n', subtraction)\n",
    "print('Multiplication ==> \\n', multiplication)\n",
    "print('Division ==> \\n', division)"
   ]
  },
  {
   "cell_type": "markdown",
   "metadata": {},
   "source": [
    "#### Question 5. From question 4, transpose the results of each arithmetic operation."
   ]
  },
  {
   "cell_type": "code",
   "execution_count": 44,
   "metadata": {},
   "outputs": [
    {
     "name": "stdout",
     "output_type": "stream",
     "text": [
      "[[ 3. 11. 19.]\n",
      " [ 5. 13. 21.]\n",
      " [ 7. 15. 23.]\n",
      " [ 9. 17. 25.]]\n",
      "[[ -1.  -9. -17.]\n",
      " [ -3. -11. -19.]\n",
      " [ -5. -13. -21.]\n",
      " [ -7. -15. -23.]]\n",
      "[[ 2. 10. 18.]\n",
      " [ 4. 12. 20.]\n",
      " [ 6. 14. 22.]\n",
      " [ 8. 16. 24.]]\n",
      "[[0.5        0.1        0.05555556]\n",
      " [0.25       0.08333333 0.05      ]\n",
      " [0.16666667 0.07142857 0.04545455]\n",
      " [0.125      0.0625     0.04166667]]\n"
     ]
    }
   ],
   "source": [
    "addition_transpose = addition.T\n",
    "subtraction_transpose = subtraction.T\n",
    "multiplication_transpose = multiplication.T\n",
    "division_transpose = division.T\n",
    "\n",
    "print('Additon Transpose\\n', addition_transpose)\n",
    "print('Subtraction Transpose\\n', subtraction_transpose)\n",
    "print('Muk Transpose\\n', multiplication_transpose)\n",
    "print(division_transpose)"
   ]
  },
  {
   "cell_type": "code",
   "execution_count": null,
   "metadata": {},
   "outputs": [],
   "source": []
  }
 ],
 "metadata": {
  "kernelspec": {
   "display_name": "Python 3",
   "language": "python",
   "name": "python3"
  },
  "language_info": {
   "codemirror_mode": {
    "name": "ipython",
    "version": 3
   },
   "file_extension": ".py",
   "mimetype": "text/x-python",
   "name": "python",
   "nbconvert_exporter": "python",
   "pygments_lexer": "ipython3",
   "version": "3.7.4"
  }
 },
 "nbformat": 4,
 "nbformat_minor": 4
}
