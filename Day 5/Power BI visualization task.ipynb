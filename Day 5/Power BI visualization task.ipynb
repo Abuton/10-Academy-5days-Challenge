{
 "cells": [
  {
   "cell_type": "markdown",
   "metadata": {},
   "source": [
    "# Power BI Dashboard Task"
   ]
  },
  {
   "cell_type": "markdown",
   "metadata": {},
   "source": [
    "### Section 1: Explore the dashboard KPIs visualization challenge and answer the following questions\n",
    "* What is the total number of subscribers in the dataset?\n",
    "* What is the total revenue?\n",
    "* What is the total number of calls for MTN Ipulse tariff type?\n",
    "* Which cluster_tag is the top voice user?\n",
    "* What is the average voice usage for all the customers?\n",
    "* What is the share of weekday onnet voice usage?\n",
    "* What is the share of weekend onnet voice usage?\n",
    "* What is the share of weekend offnet voice usage?\n",
    "* What is the share of weekend voice usage (secs)?\n",
    "* Which cluster has the highest number of calls? \n",
    "* Which cluster has the lowest voice usage? \n",
    "* Which cluster has the highest night usage? "
   ]
  },
  {
   "cell_type": "markdown",
   "metadata": {},
   "source": [
    "${\\textbf{What is the total number of subscribers in the dataset?}}$\n",
    "\n",
    "**751.06K**"
   ]
  },
  {
   "cell_type": "markdown",
   "metadata": {},
   "source": [
    "${\\textbf{What is the total revenue?}}$\n",
    "\n",
    "**5.22bn**"
   ]
  },
  {
   "cell_type": "markdown",
   "metadata": {},
   "source": [
    "${\\textbf{What is the total number of calls for MTN Ipulse tariff type?}}$\n",
    "\n",
    "**177.99M**"
   ]
  },
  {
   "cell_type": "markdown",
   "metadata": {},
   "source": [
    "${\\textbf{Which cluster_tag is the top voice user?}}$\n",
    "\n",
    "**Dormant**"
   ]
  },
  {
   "cell_type": "markdown",
   "metadata": {},
   "source": [
    "${\\textbf{What is the average voice usage for all the customers?}}$\n",
    "\n",
    "**45.71bn**"
   ]
  },
  {
   "cell_type": "markdown",
   "metadata": {},
   "source": [
    "${\\textbf{What is the share of weekday onnet voice usage?}}$\n",
    "\n",
    "**71.08**"
   ]
  },
  {
   "cell_type": "markdown",
   "metadata": {},
   "source": [
    "${\\textbf{What is the share of weekend onnet voice usage?}}$\n",
    "\n",
    "**70.62**"
   ]
  },
  {
   "cell_type": "markdown",
   "metadata": {},
   "source": [
    "${\\textbf{What is the share of weekend offnet voice usage?}}$\n",
    "\n",
    "**28.95**"
   ]
  },
  {
   "cell_type": "markdown",
   "metadata": {},
   "source": [
    "${\\textbf{What is the share of weekend voice usage (secs)?}}$\n",
    "\n",
    "**99.57**"
   ]
  },
  {
   "cell_type": "markdown",
   "metadata": {},
   "source": [
    "${\\textbf{Which cluster has the highest number of calls?}}$\n",
    "\n",
    "**Dormant**"
   ]
  },
  {
   "cell_type": "markdown",
   "metadata": {},
   "source": [
    "${\\textbf{Which cluster has the lowest voice usage?}}$\n",
    "\n",
    "**Platinum**"
   ]
  },
  {
   "cell_type": "markdown",
   "metadata": {},
   "source": [
    "${\\textbf{Which cluster has the highest night usage?}}$\n",
    "\n",
    "**Platinum**"
   ]
  },
  {
   "cell_type": "markdown",
   "metadata": {},
   "source": [
    "### Section 2: Explore the dashboard KPIs visualization challenge and answer the following questions\n",
    "* What is the average data usage? \n",
    "* What is the average data usage for women? \n",
    "* What is the average data usage in ABIA state? \n",
    "* What is the average data usage in BAUCHI state? \n",
    "* Which cluster has the highest in bundle data usage?\n",
    "* What is the average data revenue?\n",
    "* What is the average data usage for microsegment 1.10?\n",
    "* What is the average data usage for the microsegment 0.80? "
   ]
  },
  {
   "cell_type": "markdown",
   "metadata": {},
   "source": [
    "${\\textbf{What is the average data usage?}}$\n",
    "\n",
    "**1.58T**"
   ]
  },
  {
   "cell_type": "markdown",
   "metadata": {},
   "source": [
    "${\\textbf{What is the average data usage for women?}}$\n",
    "\n",
    "**1.58T**"
   ]
  },
  {
   "cell_type": "markdown",
   "metadata": {},
   "source": [
    "${\\textbf{What is the average data usage in ABIA state?}}$\n",
    "\n",
    "**1.58T**"
   ]
  },
  {
   "cell_type": "code",
   "execution_count": null,
   "metadata": {},
   "outputs": [],
   "source": []
  },
  {
   "cell_type": "code",
   "execution_count": null,
   "metadata": {},
   "outputs": [],
   "source": []
  },
  {
   "cell_type": "code",
   "execution_count": null,
   "metadata": {},
   "outputs": [],
   "source": []
  },
  {
   "cell_type": "code",
   "execution_count": null,
   "metadata": {},
   "outputs": [],
   "source": []
  },
  {
   "cell_type": "code",
   "execution_count": null,
   "metadata": {},
   "outputs": [],
   "source": []
  },
  {
   "cell_type": "markdown",
   "metadata": {},
   "source": [
    "### Section 3: Explore the dashboard KPIs visualization challenge and answer the following questions\n",
    "* What is the total lifetime value of the customers?\n",
    "* What is the average sms usage?\n",
    "* What can you diagnose when looking on voice usage trend?\n",
    "* What can you diagnose when looking on sms usage trend?"
   ]
  },
  {
   "cell_type": "code",
   "execution_count": null,
   "metadata": {},
   "outputs": [],
   "source": []
  }
 ],
 "metadata": {
  "kernelspec": {
   "display_name": "Python 3",
   "language": "python",
   "name": "python3"
  },
  "language_info": {
   "codemirror_mode": {
    "name": "ipython",
    "version": 3
   },
   "file_extension": ".py",
   "mimetype": "text/x-python",
   "name": "python",
   "nbconvert_exporter": "python",
   "pygments_lexer": "ipython3",
   "version": "3.7.4"
  }
 },
 "nbformat": 4,
 "nbformat_minor": 4
}
