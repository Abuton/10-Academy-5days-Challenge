{
 "cells": [
  {
   "cell_type": "markdown",
   "metadata": {
    "colab_type": "text",
    "id": "MWv2yy7Oep1r"
   },
   "source": [
    "#  Understanding Descriptive Statistics\n",
    "\n",
    "-  ### Population and Samples\n",
    "-  ### Outliers\n",
    "\n",
    "## Calculating Descriptive Statistics\n",
    "- ### Measures of Central Tendency\n",
    "- ### Measures of Variability\n",
    "- ### Summary of Descriptive Statistics\n",
    "- ### Measures of Correlation Between Pairs of Data\n",
    "\n",
    "## Visualizing Data\n",
    "-  ### Box Plots\n",
    "-  ### Histograms\n",
    "-  ### Pie Charts\n",
    "-  ### Bar Charts\n",
    "\n",
    "## Conclusion"
   ]
  },
  {
   "cell_type": "markdown",
   "metadata": {
    "colab_type": "text",
    "id": "CY9qbHJ4ep1v"
   },
   "source": [
    "In the era data science, a necessary aspect of working with data is the ability to describe, summarize, and represent data visually. Python statistics libraries are comprehensive, popular, and widely used tools that will assist you in working with data.\n",
    "\n",
    "In this tutorial, you’ll learn:\n",
    "\n",
    "- #### What numerical quantities you can use to describe and summarize your datasets\n",
    "- #### How to calculate descriptive statistics in pure Python\n",
    "- #### How to get descriptive statistics with available Python libraries\n",
    "- #### How to visualize your datasets"
   ]
  },
  {
   "cell_type": "markdown",
   "metadata": {
    "colab_type": "text",
    "id": "5aJiReaQep1x"
   },
   "source": [
    "# Understanding Descriptive Statistics\n",
    "\n",
    "Descriptive statistics is just a way of describing and summarizing data. It uses two main approaches:\n",
    "\n",
    "1. The quantitative approach describes and summarizes data numerically.\n",
    "2. The visual approach illustrates data with charts, plots, histograms, and other graphs.\n",
    "\n",
    "You can apply descriptive statistics to one or many datasets or variables. When you describe and summarize a single variable, you’re performing **univariate analysis**. When you search for statistical relationships among a pair of variables, you’re doing a **bivariate analysis**. Similarly, a **multivariate analysis** is concerned with multiple variables at once.\n",
    "\n",
    "# Types of Measures\n",
    "\n",
    "In this tutorial, you’ll learn about the following types of measures in descriptive statistics:\n",
    "\n",
    "- **Central tendency** tells you about the centers of the data. Useful measures include the mean, median, and mode.\n",
    "- **Variability** tells you about the spread of the data. Useful measures include variance and standard deviation.\n",
    "- **Correlation** or joint variability tells you about the relation between a pair of variables in a dataset. Useful measures include covariance and the correlation coefficient.\n",
    "---\n",
    "\n",
    "# Population and Samples\n",
    "\n",
    "In statistics, **the population** is a collection of objects, items (“units”) about which information is sought. Populations are often vast, which makes them inappropriate for collecting and analyzing data. That’s why statisticians usually try to make some conclusions about a population by choosing and examining a representative subset of that population.\n",
    "\n",
    "This subset of a population is called a **sample**. Ideally, the sample should preserve the essential statistical features of the population to a satisfactory extent. That way, you’ll be able to use the sample to glean conclusions about the population.\n",
    "\n",
    "# Outliers\n",
    "\n",
    "An **outlier** is a data point that differs significantly from the majority of the data taken from a sample or population."
   ]
  },
  {
   "cell_type": "markdown",
   "metadata": {
    "colab_type": "text",
    "id": "FogI9qq5ep1y"
   },
   "source": [
    "# Calculating Descriptive Statistics\n",
    "Start by importing all the packages you’ll need:"
   ]
  },
  {
   "cell_type": "code",
   "execution_count": 1,
   "metadata": {
    "colab": {},
    "colab_type": "code",
    "id": "NcL51hfkep10"
   },
   "outputs": [],
   "source": [
    "import math\n",
    "import statistics\n",
    "import numpy as np\n",
    "import scipy.stats\n",
    "import pandas as pd"
   ]
  },
  {
   "cell_type": "markdown",
   "metadata": {
    "colab_type": "text",
    "id": "4qFVJYNjep17"
   },
   "source": [
    "Let’s create some data to work with. You’ll start with Python lists that contain some arbitrary numeric data:"
   ]
  },
  {
   "cell_type": "code",
   "execution_count": 2,
   "metadata": {
    "colab": {},
    "colab_type": "code",
    "id": "CKU708LXep18",
    "outputId": "c60e32bc-d552-41fa-a65c-86057b6a82ae"
   },
   "outputs": [
    {
     "name": "stdout",
     "output_type": "stream",
     "text": [
      "[8.0, 1, 2.5, 4, 28.0]\n"
     ]
    },
    {
     "data": {
      "text/plain": [
       "[8.0, 1, 2.5, nan, 4, 28.0]"
      ]
     },
     "execution_count": 2,
     "metadata": {},
     "output_type": "execute_result"
    }
   ],
   "source": [
    "x = [8.0, 1, 2.5, 4, 28.0]\n",
    "x_with_nan = [8.0, 1, 2.5, math.nan, 4, 28.0]\n",
    "print(x)\n",
    "x_with_nan"
   ]
  },
  {
   "cell_type": "markdown",
   "metadata": {
    "colab_type": "text",
    "id": "PX2SKNLmep2D"
   },
   "source": [
    "Now, create np.ndarray and pd.Series objects that correspond to x and x_with_nan:"
   ]
  },
  {
   "cell_type": "code",
   "execution_count": 3,
   "metadata": {
    "colab": {},
    "colab_type": "code",
    "id": "CaZ9sfb9ep2D",
    "outputId": "18753ae7-1af6-411c-e9db-68cdea4a2a1c"
   },
   "outputs": [
    {
     "data": {
      "text/plain": [
       "(0     8.0\n",
       " 1     1.0\n",
       " 2     2.5\n",
       " 3     4.0\n",
       " 4    28.0\n",
       " dtype: float64, 0     8.0\n",
       " 1     1.0\n",
       " 2     2.5\n",
       " 3     NaN\n",
       " 4     4.0\n",
       " 5    28.0\n",
       " dtype: float64)"
      ]
     },
     "execution_count": 3,
     "metadata": {},
     "output_type": "execute_result"
    }
   ],
   "source": [
    "y, y_with_nan = np.array(x), np.array(x_with_nan)\n",
    "z, z_with_nan = pd.Series(x), pd.Series(x_with_nan)\n",
    "\n",
    "y, y_with_nan\n",
    "z, z_with_nan"
   ]
  },
  {
   "cell_type": "markdown",
   "metadata": {
    "colab_type": "text",
    "id": "qCxt3R-1ep2I"
   },
   "source": [
    "# Measures of Central Tendency\n",
    "\n",
    "The measures of central tendency show the central or middle values of datasets. There are several definitions of what’s considered to be the center of a dataset. In this tutorial, you’ll learn how to identify and calculate these measures of central tendency:\n",
    "\n",
    "- Mean\n",
    "- Median\n",
    "- Mode"
   ]
  },
  {
   "cell_type": "markdown",
   "metadata": {
    "colab_type": "text",
    "id": "uxXMrRCLep2J"
   },
   "source": [
    "# Mean\n",
    "\n",
    "The **sample mean**, also called the sample **arithmetic mean** or simply the **average**, is the arithmetic average of all the items in a dataset. The mean of a dataset 𝑥 is mathematically expressed as **Σᵢ𝑥ᵢ/𝑛, where 𝑖 = 1, 2, …, 𝑛**. In other words, it’s the sum of all the elements 𝑥ᵢ divided by the number of items in the dataset 𝑥."
   ]
  },
  {
   "cell_type": "markdown",
   "metadata": {
    "colab_type": "text",
    "id": "AJOe17QNep2K"
   },
   "source": [
    "You can calculate the mean with pure Python using sum() and len(), without importing libraries:"
   ]
  },
  {
   "cell_type": "code",
   "execution_count": 4,
   "metadata": {
    "colab": {},
    "colab_type": "code",
    "id": "Bc7gexEkep2L",
    "outputId": "20295d4b-94a2-4469-9977-2fc394953bfe"
   },
   "outputs": [
    {
     "data": {
      "text/plain": [
       "8.7"
      ]
     },
     "execution_count": 4,
     "metadata": {},
     "output_type": "execute_result"
    }
   ],
   "source": [
    "mean_ = sum(x) / len(x)\n",
    "mean_"
   ]
  },
  {
   "cell_type": "markdown",
   "metadata": {
    "colab_type": "text",
    "id": "SPsTGO1gep2O"
   },
   "source": [
    "Although this is clean and elegant, you can also apply built-in Python statistics functions:"
   ]
  },
  {
   "cell_type": "code",
   "execution_count": 5,
   "metadata": {
    "colab": {},
    "colab_type": "code",
    "id": "3FYt1TEQep2P",
    "outputId": "e8e38b82-c139-4247-df35-aec92bd2de5c"
   },
   "outputs": [
    {
     "data": {
      "text/plain": [
       "8.7"
      ]
     },
     "execution_count": 5,
     "metadata": {},
     "output_type": "execute_result"
    }
   ],
   "source": [
    "mean_ = statistics.mean(x)\n",
    "mean_"
   ]
  },
  {
   "cell_type": "markdown",
   "metadata": {
    "colab_type": "text",
    "id": "YSJcZVflep2T"
   },
   "source": [
    "W’ve called the functions **_mean()_** from the built-in Python statistics library and got the same result as you did with pure Python.\n",
    "\n",
    "However, if there are nan values among your data, then statistics.mean() will return nan as the output:"
   ]
  },
  {
   "cell_type": "code",
   "execution_count": 6,
   "metadata": {
    "colab": {},
    "colab_type": "code",
    "id": "eil-RMSwep2T",
    "outputId": "4b13a6dd-32c0-462f-d562-20ed43d50de4"
   },
   "outputs": [
    {
     "data": {
      "text/plain": [
       "nan"
      ]
     },
     "execution_count": 6,
     "metadata": {},
     "output_type": "execute_result"
    }
   ],
   "source": [
    "mean_ = statistics.mean(x_with_nan)\n",
    "mean_"
   ]
  },
  {
   "cell_type": "markdown",
   "metadata": {
    "colab_type": "text",
    "id": "98hOS2o_ep2X"
   },
   "source": [
    "If you use NumPy, then you can get the mean with **_np.mean()_**:"
   ]
  },
  {
   "cell_type": "code",
   "execution_count": 7,
   "metadata": {
    "colab": {},
    "colab_type": "code",
    "id": "CYIuE9mjep2X",
    "outputId": "d79db985-6037-477f-98d7-094c42717846"
   },
   "outputs": [
    {
     "data": {
      "text/plain": [
       "8.7"
      ]
     },
     "execution_count": 7,
     "metadata": {},
     "output_type": "execute_result"
    }
   ],
   "source": [
    "mean_ = np.mean(y)\n",
    "mean_"
   ]
  },
  {
   "cell_type": "markdown",
   "metadata": {
    "colab_type": "text",
    "id": "327WdCS5ep2a"
   },
   "source": [
    "In the example above, **_mean()_** is a function, but you can use the corresponding method **_.mean()_** as well:"
   ]
  },
  {
   "cell_type": "code",
   "execution_count": 8,
   "metadata": {
    "colab": {},
    "colab_type": "code",
    "id": "DOZDuaPpep2b",
    "outputId": "83673e59-b35d-4ff4-bf7f-1e8b6f7fde03"
   },
   "outputs": [
    {
     "data": {
      "text/plain": [
       "8.7"
      ]
     },
     "execution_count": 8,
     "metadata": {},
     "output_type": "execute_result"
    }
   ],
   "source": [
    "mean_ = y.mean()\n",
    "mean_"
   ]
  },
  {
   "cell_type": "markdown",
   "metadata": {
    "colab_type": "text",
    "id": "dWJvdA08ep2d"
   },
   "source": [
    "You often don’t need to get a nan value as a result. If you prefer to ignore nan values, then you can use **_np.nanmean()_**:"
   ]
  },
  {
   "cell_type": "code",
   "execution_count": 9,
   "metadata": {
    "colab": {},
    "colab_type": "code",
    "id": "gswajdvsep2e",
    "outputId": "1163ff47-0910-4734-de26-6cf4994b782f"
   },
   "outputs": [
    {
     "data": {
      "text/plain": [
       "8.7"
      ]
     },
     "execution_count": 9,
     "metadata": {},
     "output_type": "execute_result"
    }
   ],
   "source": [
    "np.nanmean(y_with_nan)"
   ]
  },
  {
   "cell_type": "markdown",
   "metadata": {
    "colab_type": "text",
    "id": "XVdVE9Ilep2h"
   },
   "source": [
    "**_nanmean()_** simply ignores all nan values. It returns the same value as mean() if you were to apply it to the dataset without the nan values.\n",
    "\n",
    "pd.Series objects also have the method **_.mean()_**:"
   ]
  },
  {
   "cell_type": "code",
   "execution_count": 10,
   "metadata": {
    "colab": {},
    "colab_type": "code",
    "id": "h0tk7perep2i",
    "outputId": "5c09a08c-0063-405f-938a-5c2cbcbc45a4"
   },
   "outputs": [
    {
     "data": {
      "text/plain": [
       "8.7"
      ]
     },
     "execution_count": 10,
     "metadata": {},
     "output_type": "execute_result"
    }
   ],
   "source": [
    "mean_ = z.mean()\n",
    "mean_"
   ]
  },
  {
   "cell_type": "markdown",
   "metadata": {
    "colab_type": "text",
    "id": "vH9tL5d-ep2k"
   },
   "source": [
    "As you can see, it’s used similarly as in the case of NumPy. However, _**.mean()_** from Pandas ignores nan values by default:"
   ]
  },
  {
   "cell_type": "code",
   "execution_count": 11,
   "metadata": {
    "colab": {},
    "colab_type": "code",
    "id": "WcVfizLSep2l",
    "outputId": "71f31f60-a4cc-476b-fd24-cb57bdb2c857"
   },
   "outputs": [
    {
     "data": {
      "text/plain": [
       "8.7"
      ]
     },
     "execution_count": 11,
     "metadata": {},
     "output_type": "execute_result"
    }
   ],
   "source": [
    "z_with_nan.mean()"
   ]
  },
  {
   "cell_type": "markdown",
   "metadata": {
    "colab_type": "text",
    "collapsed": true,
    "id": "QF8HLR-3ep2o"
   },
   "source": [
    "# Median\n",
    "\n",
    "The **sample median** is the middle element of a sorted dataset. The dataset can be sorted in increasing or decreasing order. If the number of elements **𝑛** of the dataset is odd, then the median is the value at the middle position: **0.5(𝑛 + 1)**. If **𝑛** is even, then the median is the arithmetic mean of the two values in the middle, that is, the items at the positions **0.5𝑛** and **0.5𝑛 + 1**."
   ]
  },
  {
   "cell_type": "markdown",
   "metadata": {
    "colab_type": "text",
    "id": "3pvII9Gwep2p"
   },
   "source": [
    "Here is one of many possible pure Python implementations of the median:\n",
    "\n",
    "Two most important steps of this implementation are as follows:\n",
    "\n",
    "- Sorting the elements of the dataset\n",
    "- Finding the middle element(s) in the sorted dataset"
   ]
  },
  {
   "cell_type": "code",
   "execution_count": null,
   "metadata": {
    "colab": {},
    "colab_type": "code",
    "id": "U4jZ_l1Dep2p",
    "outputId": "de656c0a-3862-437d-dbf0-60f33fac2a91"
   },
   "outputs": [
    {
     "data": {
      "text/plain": [
       "4"
      ]
     },
     "execution_count": 14,
     "metadata": {
      "tags": []
     },
     "output_type": "execute_result"
    }
   ],
   "source": [
    "n = len(x)\n",
    "if n % 2:\n",
    "    median_ = sorted(x)[round(0.5*(n-1))]\n",
    "else:\n",
    "    x_ord, index = sorted(x), round(0.5 * n)\n",
    "    median_ = 0.5 * (x_ord[index-1] + x_ord[index])\n",
    "        \n",
    "median_"
   ]
  },
  {
   "cell_type": "markdown",
   "metadata": {
    "colab_type": "text",
    "id": "jSAYLGRmep2s"
   },
   "source": [
    "You can get the median with **_statistics.median()_**:"
   ]
  },
  {
   "cell_type": "code",
   "execution_count": null,
   "metadata": {
    "colab": {},
    "colab_type": "code",
    "id": "ArIZDnHVep2s",
    "outputId": "0f086441-d983-4ae7-a1d4-41f5bcedd69e"
   },
   "outputs": [
    {
     "data": {
      "text/plain": [
       "4"
      ]
     },
     "execution_count": 15,
     "metadata": {
      "tags": []
     },
     "output_type": "execute_result"
    }
   ],
   "source": [
    "median_ = statistics.median(x)\n",
    "median_"
   ]
  },
  {
   "cell_type": "code",
   "execution_count": null,
   "metadata": {
    "colab": {},
    "colab_type": "code",
    "id": "l6W6GMaBep2v",
    "outputId": "18896170-dfd6-4775-d895-9963ed1fb044"
   },
   "outputs": [
    {
     "data": {
      "text/plain": [
       "3.25"
      ]
     },
     "execution_count": 16,
     "metadata": {
      "tags": []
     },
     "output_type": "execute_result"
    }
   ],
   "source": [
    "median_ = statistics.median(x[:-1])\n",
    "median_"
   ]
  },
  {
   "cell_type": "markdown",
   "metadata": {
    "colab_type": "text",
    "id": "KTj_lOkSep2y"
   },
   "source": [
    "The sorted version of **x** is **[1, 2.5, 4, 8.0, 28.0]**, so the element in the middle is **4**. The sorted version of **x[:-1]**, which is x without the last item **28.0**, is **[1, 2.5, 4, 8.0]**. Now, there are two middle elements, **2.5** and **4**. Their average is **3.25**."
   ]
  },
  {
   "cell_type": "markdown",
   "metadata": {
    "colab_type": "text",
    "id": "rppM95Xbep2y"
   },
   "source": [
    "You can also get the median with _**np.median()_**:"
   ]
  },
  {
   "cell_type": "code",
   "execution_count": null,
   "metadata": {
    "colab": {},
    "colab_type": "code",
    "id": "F0oiZkIVep2y",
    "outputId": "f6617348-7678-47d9-eba0-f60e3c44c872"
   },
   "outputs": [
    {
     "data": {
      "text/plain": [
       "4.0"
      ]
     },
     "execution_count": 17,
     "metadata": {
      "tags": []
     },
     "output_type": "execute_result"
    }
   ],
   "source": [
    "median_ = np.median(y)\n",
    "median_"
   ]
  },
  {
   "cell_type": "markdown",
   "metadata": {
    "colab_type": "text",
    "id": "sMRaow1Lep22"
   },
   "source": [
    "median_ = np.median(y[:-1])\n",
    "median_"
   ]
  },
  {
   "cell_type": "markdown",
   "metadata": {
    "colab_type": "text",
    "id": "Ipl5c7mbep22"
   },
   "source": [
    "If there are _**nan values_** and you want to ignore them, you can use **_nanmedian()_**"
   ]
  },
  {
   "cell_type": "code",
   "execution_count": null,
   "metadata": {
    "colab": {},
    "colab_type": "code",
    "id": "JG9IXkkWep23",
    "outputId": "71aa94b4-909e-407a-9328-5e725ee3a933"
   },
   "outputs": [
    {
     "data": {
      "text/plain": [
       "3.25"
      ]
     },
     "execution_count": 39,
     "metadata": {
      "tags": []
     },
     "output_type": "execute_result"
    }
   ],
   "source": [
    "np.nanmedian(y_with_nan)\n",
    "\n",
    "np.nanmedian(y_with_nan[:-1])"
   ]
  },
  {
   "cell_type": "markdown",
   "metadata": {
    "colab_type": "text",
    "id": "Gcf1pAW0ep25"
   },
   "source": [
    "Pandas Series objects have the method **_.median()_** that ignores nan values by default:"
   ]
  },
  {
   "cell_type": "code",
   "execution_count": null,
   "metadata": {
    "colab": {},
    "colab_type": "code",
    "id": "PLSMPZIVep26",
    "outputId": "4d52d0a6-8990-4eaa-a698-b7a2b5d7d781"
   },
   "outputs": [
    {
     "data": {
      "text/plain": [
       "4.0"
      ]
     },
     "execution_count": 23,
     "metadata": {
      "tags": []
     },
     "output_type": "execute_result"
    }
   ],
   "source": [
    "z.median()"
   ]
  },
  {
   "cell_type": "code",
   "execution_count": null,
   "metadata": {
    "colab": {},
    "colab_type": "code",
    "id": "RuQ3inYOep28",
    "outputId": "45897653-528e-4e2d-bc80-f2bc69dd1ada"
   },
   "outputs": [
    {
     "data": {
      "text/plain": [
       "4.0"
      ]
     },
     "execution_count": 22,
     "metadata": {
      "tags": []
     },
     "output_type": "execute_result"
    }
   ],
   "source": [
    "z_with_nan.median()"
   ]
  },
  {
   "cell_type": "markdown",
   "metadata": {
    "colab_type": "text",
    "id": "H5eT6ZiQep2-"
   },
   "source": [
    "# Mode\n",
    "\n",
    "The **_sample mode_** is the value in the dataset that occurs most frequently. If there isn’t a single such value, then the set is multimodal since it has multiple modal values. For example, in the set that contains the points 2, 3, 2, 8, and 12, the number 2 is the mode because it occurs twice, unlike the other items that occur only once."
   ]
  },
  {
   "cell_type": "markdown",
   "metadata": {
    "colab_type": "text",
    "id": "h8cS2rRKep2-"
   },
   "source": [
    "This is how you can get the mode with pure Python:"
   ]
  },
  {
   "cell_type": "markdown",
   "metadata": {
    "colab_type": "text",
    "id": "Qrf3hAwdep2_"
   },
   "source": [
    "u = [2, 3, 2, 8, 12]\n",
    "mode_ = max((u.count(item), item) for item in set(u))[1]\n",
    "mode_"
   ]
  },
  {
   "cell_type": "markdown",
   "metadata": {
    "colab_type": "text",
    "id": "UZW88lpaep2_"
   },
   "source": [
    "You use **_u.count()_** to get the number of occurrences of each item in u. The item with the maximal number of occurrences is the mode. Note that you don’t have to use set(u). Instead, you might replace it with just u and iterate over the entire list."
   ]
  },
  {
   "cell_type": "markdown",
   "metadata": {
    "colab_type": "text",
    "id": "0Ld0Uwpeep3A"
   },
   "source": [
    "You can obtain the mode with **_statistics.mode()_** and **_statistics.multimode()_**:"
   ]
  },
  {
   "cell_type": "code",
   "execution_count": null,
   "metadata": {
    "colab": {},
    "colab_type": "code",
    "id": "FcXya6viep3A",
    "outputId": "dd9d5c7b-e13c-4a41-e772-cb79c9bd237e"
   },
   "outputs": [
    {
     "data": {
      "text/plain": [
       "2"
      ]
     },
     "execution_count": 27,
     "metadata": {
      "tags": []
     },
     "output_type": "execute_result"
    }
   ],
   "source": [
    "mode_ = statistics.mode(u)\n",
    "mode_"
   ]
  },
  {
   "cell_type": "code",
   "execution_count": null,
   "metadata": {
    "colab": {},
    "colab_type": "code",
    "id": "2brMSg46ep3E"
   },
   "outputs": [],
   "source": [
    "#mode_ = statistics.multimode(u)\n",
    "#mode_"
   ]
  },
  {
   "cell_type": "markdown",
   "metadata": {
    "colab_type": "text",
    "id": "c268CUnuep3G"
   },
   "source": [
    "As you can see, **_mode()_** returned a single value, while **_multimode()_** returned the list that contains the result. This isn’t the only difference between the two functions, though. If there’s more than one modal value, then **_mode()_** raises StatisticsError, while **_multimode()_** returns the list with all modes:"
   ]
  },
  {
   "cell_type": "code",
   "execution_count": null,
   "metadata": {
    "colab": {},
    "colab_type": "code",
    "id": "rFW0Hz7pep3G",
    "outputId": "b455cfe0-69d4-422c-98dc-84f9d739553a"
   },
   "outputs": [
    {
     "data": {
      "text/plain": [
       "[12, 15]"
      ]
     },
     "execution_count": 43,
     "metadata": {
      "tags": []
     },
     "output_type": "execute_result"
    }
   ],
   "source": [
    "v = [12, 15, 12, 15, 21, 15, 12]\n",
    "#statistics.mode(v)  # Raises StatisticsError\n",
    "#statistics.multimode(v)\n",
    "[12, 15]"
   ]
  },
  {
   "cell_type": "markdown",
   "metadata": {
    "colab_type": "text",
    "id": "Gd05V-qrep3I"
   },
   "source": [
    "You should pay special attention to this scenario and be careful when you’re choosing between these two functions.\n",
    "\n",
    "**_statistics.mode()_** and **_statistics.multimode()_** handle nan values as regular values and can return nan as the modal value:"
   ]
  },
  {
   "cell_type": "code",
   "execution_count": null,
   "metadata": {
    "colab": {},
    "colab_type": "code",
    "id": "uagcFawlep3J",
    "outputId": "ef6c2bb4-5f36-4960-f1af-e7fa615827f4"
   },
   "outputs": [
    {
     "data": {
      "text/plain": [
       "2"
      ]
     },
     "execution_count": 45,
     "metadata": {
      "tags": []
     },
     "output_type": "execute_result"
    }
   ],
   "source": [
    "statistics.mode([2, math.nan, 2])"
   ]
  },
  {
   "cell_type": "code",
   "execution_count": null,
   "metadata": {
    "colab": {},
    "colab_type": "code",
    "id": "FBLjOY4dep3L",
    "outputId": "6f6c1674-092b-420d-e38d-d12b030ef872"
   },
   "outputs": [
    {
     "data": {
      "text/plain": [
       "nan"
      ]
     },
     "execution_count": 46,
     "metadata": {
      "tags": []
     },
     "output_type": "execute_result"
    }
   ],
   "source": [
    "statistics.mode([2, math.nan, 0, math.nan, 5])"
   ]
  },
  {
   "cell_type": "markdown",
   "metadata": {
    "colab_type": "text",
    "id": "txyxSx89ep3N"
   },
   "source": [
    "In the first example above, the number 2 occurs twice and is the modal value. In the second example, nan is the modal value since it occurs twice, while the other values occur only once."
   ]
  },
  {
   "cell_type": "markdown",
   "metadata": {
    "colab_type": "text",
    "id": "gM1yKC_uep3N"
   },
   "source": [
    "You can also get the mode with **_scipy.stats.mode()_**:\n"
   ]
  },
  {
   "cell_type": "code",
   "execution_count": null,
   "metadata": {
    "colab": {},
    "colab_type": "code",
    "id": "2b1GXxGVep3O",
    "outputId": "0b34a6fc-b6b1-4d37-8607-1e66a83e458c"
   },
   "outputs": [
    {
     "data": {
      "text/plain": [
       "ModeResult(mode=array([2]), count=array([2]))"
      ]
     },
     "execution_count": 49,
     "metadata": {
      "tags": []
     },
     "output_type": "execute_result"
    }
   ],
   "source": [
    "u, v = np.array(u), np.array(v)\n",
    "mode_ = scipy.stats.mode(u)\n",
    "mode_"
   ]
  },
  {
   "cell_type": "code",
   "execution_count": null,
   "metadata": {
    "colab": {},
    "colab_type": "code",
    "id": "PLHFr3Ncep3R",
    "outputId": "aa471880-d2ae-4ff6-898a-349bee0cd0a6"
   },
   "outputs": [
    {
     "data": {
      "text/plain": [
       "ModeResult(mode=array([12]), count=array([3]))"
      ]
     },
     "execution_count": 52,
     "metadata": {
      "tags": []
     },
     "output_type": "execute_result"
    }
   ],
   "source": [
    "mode_ = scipy.stats.mode(v)\n",
    ">>> mode_"
   ]
  },
  {
   "cell_type": "markdown",
   "metadata": {
    "colab_type": "text",
    "id": "TMfh7P19ep3T"
   },
   "source": [
    "This function returns the object with the modal value and the number of times it occurs. If there are multiple modal values in the dataset, then only the **_smallest_** value is returned."
   ]
  },
  {
   "cell_type": "markdown",
   "metadata": {
    "colab_type": "text",
    "id": "plPFdCw0ep3U"
   },
   "source": [
    "Pandas Series objects have the method **_.mode()_** that handles multimodal values well and ignores **_nan values_** by default:"
   ]
  },
  {
   "cell_type": "code",
   "execution_count": null,
   "metadata": {
    "colab": {},
    "colab_type": "code",
    "id": "FFTePjTqep3U",
    "outputId": "c0845f3c-113a-4ce7-8ceb-9cb305cdfd50"
   },
   "outputs": [
    {
     "data": {
      "text/plain": [
       "0    2\n",
       "dtype: int64"
      ]
     },
     "execution_count": 59,
     "metadata": {
      "tags": []
     },
     "output_type": "execute_result"
    }
   ],
   "source": [
    "u, v, w = pd.Series(u), pd.Series(v), pd.Series([2, 2, math.nan])\n",
    "u.mode()"
   ]
  },
  {
   "cell_type": "code",
   "execution_count": null,
   "metadata": {
    "colab": {},
    "colab_type": "code",
    "id": "8F3-2-Xvep3Y",
    "outputId": "ac41af40-d711-433b-ca0a-a984b10180e6"
   },
   "outputs": [
    {
     "data": {
      "text/plain": [
       "0    12\n",
       "1    15\n",
       "dtype: int64"
      ]
     },
     "execution_count": 60,
     "metadata": {
      "tags": []
     },
     "output_type": "execute_result"
    }
   ],
   "source": [
    "v.mode()"
   ]
  },
  {
   "cell_type": "code",
   "execution_count": null,
   "metadata": {
    "colab": {},
    "colab_type": "code",
    "id": "SD5CLOAZep3b",
    "outputId": "ded4a67f-7463-4722-e7d7-a4e66e813026"
   },
   "outputs": [
    {
     "data": {
      "text/plain": [
       "0    2.0\n",
       "dtype: float64"
      ]
     },
     "execution_count": 63,
     "metadata": {
      "tags": []
     },
     "output_type": "execute_result"
    }
   ],
   "source": [
    "w.mode()"
   ]
  },
  {
   "cell_type": "markdown",
   "metadata": {
    "colab_type": "text",
    "id": "WBLfFNHhep3d"
   },
   "source": [
    "As you can see, **_.mode()_** returns a new pd.Series that holds all modal values. If you want **_.mode()_** to take nan values into account, then just pass the optional argument **_dropna=False_**."
   ]
  },
  {
   "cell_type": "markdown",
   "metadata": {
    "colab_type": "text",
    "id": "-yQL2EPCep3d"
   },
   "source": [
    "# Measures of Variability\n",
    "\n",
    "The measures of central tendency aren’t sufficient to describe data. You’ll also need the **_measures of variability_** that quantify the spread of data points. In this section, you’ll learn how to identify and calculate the following variability measures:\n",
    "\n",
    "- Variance\n",
    "- Standard deviation\n",
    "- Percentiles\n",
    "- Ranges"
   ]
  },
  {
   "cell_type": "markdown",
   "metadata": {
    "colab_type": "text",
    "id": "DyT37zDCep3e"
   },
   "source": [
    "# Variance\n",
    "\n",
    "The **_sample variance_** quantifies the spread of the data. It shows numerically how far the data points are from the **_mean_**. You can express the sample variance of the dataset **_𝑥_** with **_𝑛_** elements mathematically as **_𝑠² = Σᵢ(𝑥ᵢ − mean(𝑥))² / (𝑛 − 1)_**, where **_𝑖 = 1, 2, …, 𝑛_** and **_mean(𝑥)_** is the **_sample mean_** of **_𝑥_**."
   ]
  },
  {
   "cell_type": "markdown",
   "metadata": {
    "colab_type": "text",
    "id": "roAeraQ5ep3e"
   },
   "source": [
    "Here’s how you can calculate the **_sample variance_** with pure Python:"
   ]
  },
  {
   "cell_type": "code",
   "execution_count": 12,
   "metadata": {
    "colab": {},
    "colab_type": "code",
    "id": "Hs30AhAlep3f",
    "outputId": "582ac215-f9eb-4741-d4cf-93f613b7c7ee"
   },
   "outputs": [
    {
     "data": {
      "text/plain": [
       "123.19999999999999"
      ]
     },
     "execution_count": 12,
     "metadata": {},
     "output_type": "execute_result"
    }
   ],
   "source": [
    "n = len(x)\n",
    "mean_ = sum(x) / n\n",
    "var_ = sum((item - mean_)**2 for item in x) / (n - 1)\n",
    "var_"
   ]
  },
  {
   "cell_type": "markdown",
   "metadata": {
    "colab_type": "text",
    "id": "0zQvdk59ep3h"
   },
   "source": [
    "This approach is sufficient and calculates the **_sample variance_** well. However, the shorter and more elegant solution is to call the existing function **_statistics.variance()_**:"
   ]
  },
  {
   "cell_type": "code",
   "execution_count": 13,
   "metadata": {
    "colab": {},
    "colab_type": "code",
    "id": "E6MAsBZtep3i",
    "outputId": "c22cd189-c652-4d76-9f80-a371ff14cfa6"
   },
   "outputs": [
    {
     "data": {
      "text/plain": [
       "123.2"
      ]
     },
     "execution_count": 13,
     "metadata": {},
     "output_type": "execute_result"
    }
   ],
   "source": [
    "var_ = statistics.variance(x)\n",
    "var_"
   ]
  },
  {
   "cell_type": "markdown",
   "metadata": {
    "colab_type": "text",
    "id": "EtFFThmYep3m"
   },
   "source": [
    "If you have **_nan values_** among your data, then **_statistics.variance()_** will return **_nan_**:"
   ]
  },
  {
   "cell_type": "code",
   "execution_count": 14,
   "metadata": {
    "colab": {},
    "colab_type": "code",
    "id": "tttey2CGep3m",
    "outputId": "d8a6c867-b5e2-4dbf-f40c-5981f6cb69ae"
   },
   "outputs": [
    {
     "data": {
      "text/plain": [
       "nan"
      ]
     },
     "execution_count": 14,
     "metadata": {},
     "output_type": "execute_result"
    }
   ],
   "source": [
    "statistics.variance(x_with_nan)"
   ]
  },
  {
   "cell_type": "markdown",
   "metadata": {
    "colab_type": "text",
    "id": "SOBwHkeOep3o"
   },
   "source": [
    "This behavior is consistent with mean() and most other functions from the Python statistics library.\n",
    "\n",
    "You can also calculate the **_sample variance_** with **_NumPy_**. You should use the function **_np.var()_** or the corresponding method **_.var()_**:"
   ]
  },
  {
   "cell_type": "code",
   "execution_count": 17,
   "metadata": {
    "colab": {},
    "colab_type": "code",
    "id": "3w2pWgUlep3p",
    "outputId": "31e6d439-0edf-4774-8a0f-192c13ae4f95"
   },
   "outputs": [
    {
     "data": {
      "text/plain": [
       "123.19999999999999"
      ]
     },
     "execution_count": 17,
     "metadata": {},
     "output_type": "execute_result"
    }
   ],
   "source": [
    "var_ = np.var(y, ddof=1)\n",
    "var_"
   ]
  },
  {
   "cell_type": "code",
   "execution_count": 19,
   "metadata": {
    "colab": {},
    "colab_type": "code",
    "id": "CJ0Ay0qXep3u",
    "outputId": "8c83b244-8231-407c-e22f-5df013d11574"
   },
   "outputs": [
    {
     "data": {
      "text/plain": [
       "123.19999999999999"
      ]
     },
     "execution_count": 19,
     "metadata": {},
     "output_type": "execute_result"
    }
   ],
   "source": [
    "var_ = y.var(ddof=1)\n",
    "var_"
   ]
  },
  {
   "cell_type": "markdown",
   "metadata": {
    "colab_type": "text",
    "id": "RIYXchNKep3w"
   },
   "source": [
    "It’s very important to specify the parameter **_ddof=1_**. That’s how you set the **_delta degrees of freedom_** to **_1_**. This parameter allows the proper calculation of **_𝑠²_**, with **_(𝑛 − 1)_** in the denominator instead of **_𝑛_**."
   ]
  },
  {
   "cell_type": "markdown",
   "metadata": {
    "colab_type": "text",
    "id": "4a89qm_jep3x"
   },
   "source": [
    "If you have **_nan values_** in the dataset, then **_np.var()_** and **_.var()_** will return **_nan_**:"
   ]
  },
  {
   "cell_type": "code",
   "execution_count": 20,
   "metadata": {
    "colab": {},
    "colab_type": "code",
    "id": "XA_hSpPCep3x",
    "outputId": "a9d5f5b5-3dde-4423-8d6a-60bb5b75f27b"
   },
   "outputs": [
    {
     "data": {
      "text/plain": [
       "nan"
      ]
     },
     "execution_count": 20,
     "metadata": {},
     "output_type": "execute_result"
    }
   ],
   "source": [
    "np.var(y_with_nan, ddof=1)"
   ]
  },
  {
   "cell_type": "code",
   "execution_count": 21,
   "metadata": {
    "colab": {},
    "colab_type": "code",
    "id": "yGNUm78lep30",
    "outputId": "572d94c2-9c57-4852-f883-33a573d1554d"
   },
   "outputs": [
    {
     "data": {
      "text/plain": [
       "nan"
      ]
     },
     "execution_count": 21,
     "metadata": {},
     "output_type": "execute_result"
    }
   ],
   "source": [
    "y_with_nan.var(ddof=1)"
   ]
  },
  {
   "cell_type": "markdown",
   "metadata": {
    "colab_type": "text",
    "id": "R1PvPq4Jep33"
   },
   "source": [
    "This is consistent with **_np.mean()_** and **_np.average()_**. If you want to skip **_nan values_**, then you should use **_np.nanvar()_**:"
   ]
  },
  {
   "cell_type": "code",
   "execution_count": 22,
   "metadata": {
    "colab": {},
    "colab_type": "code",
    "id": "m6ptoX5zep33",
    "outputId": "428e0dbf-33a7-486b-971c-283753b4edc0"
   },
   "outputs": [
    {
     "data": {
      "text/plain": [
       "123.19999999999999"
      ]
     },
     "execution_count": 22,
     "metadata": {},
     "output_type": "execute_result"
    }
   ],
   "source": [
    "np.nanvar(y_with_nan, ddof=1)"
   ]
  },
  {
   "cell_type": "markdown",
   "metadata": {
    "colab_type": "text",
    "id": "5Wyb6sKLep39"
   },
   "source": [
    "**_np.nanvar()_** ignores **_nan values_**. It also needs you to specify **_ddof=1_**."
   ]
  },
  {
   "cell_type": "markdown",
   "metadata": {
    "colab_type": "text",
    "id": "GHhZjksiep3_"
   },
   "source": [
    "**_pd.Series_** objects have the method **_.var()_** that skips **_nan values_** by default:"
   ]
  },
  {
   "cell_type": "code",
   "execution_count": 24,
   "metadata": {
    "colab": {},
    "colab_type": "code",
    "id": "PM8mXjVUep3_",
    "outputId": "284a2fa3-0e9d-4d06-83d6-bbb5d5af6d1d"
   },
   "outputs": [
    {
     "data": {
      "text/plain": [
       "123.19999999999999"
      ]
     },
     "execution_count": 24,
     "metadata": {},
     "output_type": "execute_result"
    }
   ],
   "source": [
    "z.var()"
   ]
  },
  {
   "cell_type": "code",
   "execution_count": 25,
   "metadata": {
    "colab": {},
    "colab_type": "code",
    "id": "89JMz5M2ep4E",
    "outputId": "4d2bd998-ef97-4017-e89c-c28128fe22de"
   },
   "outputs": [
    {
     "data": {
      "text/plain": [
       "123.19999999999999"
      ]
     },
     "execution_count": 25,
     "metadata": {},
     "output_type": "execute_result"
    }
   ],
   "source": [
    "z_with_nan.var(ddof=1)"
   ]
  },
  {
   "cell_type": "markdown",
   "metadata": {
    "colab_type": "text",
    "id": "hU-qvOF6ep4J"
   },
   "source": [
    "It also has the parameter **_ddof_**, but its default value is **_1_**, so you can omit it. If you want a different behavior related to **_nan values_**, then use the optional parameter skipna."
   ]
  },
  {
   "cell_type": "markdown",
   "metadata": {
    "colab_type": "text",
    "id": "r7fdvzF9ep4J"
   },
   "source": [
    "# population variance\n",
    "\n",
    "You calculate the **_population variance_** similarly to the **_sample variance_**. However, you have to use **_𝑛_** in the denominator instead of **_𝑛 − 1_**: **_Σᵢ(𝑥ᵢ − mean(𝑥))² / 𝑛_**. In this case, **_𝑛_** is the number of items in the **_entire population_**. You can get the **_population variance_** similar to the sample variance, with the following differences:\n",
    "\n",
    "- Replace **_(n - 1)_** with **_n_** in the pure Python implementation.\n",
    "- Use **_statistics.pvariance()_** instead of **_statistics.variance()_**.\n",
    "- Specify the parameter **_ddof=0_** if you use **_NumPy_** or **_Pandas_**. In **_NumPy_**, you can omit ddof because its default value is **_0_**."
   ]
  },
  {
   "cell_type": "markdown",
   "metadata": {
    "colab_type": "text",
    "id": "m2ALw8cNep4M"
   },
   "source": [
    "**_NB_**: Note that you should always be aware of whether you’re working with a **_sample_** or the **_entire population_** whenever you’re calculating the **_variance_**!"
   ]
  },
  {
   "cell_type": "markdown",
   "metadata": {
    "colab_type": "text",
    "id": "BtwTxxPjep4N"
   },
   "source": [
    "# Standard Deviation\n",
    "\n",
    "The **_sample standard deviation_** is another measure of data spread. It’s connected to the **_sample variance_**, as **_standard deviation_**, **_𝑠_**, is the **_positive square root_** of the **_sample variance_**. The **_standard deviation_** is often more convenient than the **_variance_** because it has the same unit as the data points. Once you get the **_variance_**, you can calculate the **_standard deviation_** with pure Python:"
   ]
  },
  {
   "cell_type": "code",
   "execution_count": null,
   "metadata": {
    "colab": {},
    "colab_type": "code",
    "id": "rOnyT7LHep4N",
    "outputId": "9d96263c-5f07-41e0-d6be-b7f8b357fa73"
   },
   "outputs": [
    {
     "data": {
      "text/plain": [
       "11.099549540409285"
      ]
     },
     "execution_count": 79,
     "metadata": {
      "tags": []
     },
     "output_type": "execute_result"
    }
   ],
   "source": [
    "std_ = var_ ** 0.5\n",
    "std_"
   ]
  },
  {
   "cell_type": "markdown",
   "metadata": {
    "colab_type": "text",
    "id": "pMl-gL7-ep4Q"
   },
   "source": [
    "Although this solution works, you can also use **_statistics.stdev()_**:"
   ]
  },
  {
   "cell_type": "markdown",
   "metadata": {
    "colab_type": "text",
    "id": "lcKbshifep4Q"
   },
   "source": [
    "std_ = statistics.stdev(x)\n",
    "std_"
   ]
  },
  {
   "cell_type": "markdown",
   "metadata": {
    "colab_type": "text",
    "id": "3l4Oms2wep4R"
   },
   "source": [
    "You can get the **_standard deviation_** with NumPy in almost the same way. You can use the function **_std()_** and the corresponding method **_.std()_** to calculate the **_standard deviation_**. If there are **_nan values_** in the dataset, then they’ll return **_nan_**. To ignore **_nan values_**, you should use **_np.nanstd()_**. You use **_std()_**, **_.std()_**, and **_nanstd()_** from NumPy as you would use **_var()_**, **_.var()_**, and **_nanvar()_**:"
   ]
  },
  {
   "cell_type": "code",
   "execution_count": 26,
   "metadata": {
    "colab": {},
    "colab_type": "code",
    "id": "Xu8y0pHrep4R",
    "outputId": "c4f0f78a-12ef-47d2-b2d9-719c7689ea6b"
   },
   "outputs": [
    {
     "data": {
      "text/plain": [
       "11.099549540409285"
      ]
     },
     "execution_count": 26,
     "metadata": {},
     "output_type": "execute_result"
    }
   ],
   "source": [
    "np.std(y, ddof=1)"
   ]
  },
  {
   "cell_type": "code",
   "execution_count": 27,
   "metadata": {
    "colab": {},
    "colab_type": "code",
    "id": "M_cUtGMHep4T",
    "outputId": "ffa4c5f1-20bb-4aec-b1df-db5f210f5f87"
   },
   "outputs": [
    {
     "data": {
      "text/plain": [
       "11.099549540409285"
      ]
     },
     "execution_count": 27,
     "metadata": {},
     "output_type": "execute_result"
    }
   ],
   "source": [
    "y.std(ddof=1)"
   ]
  },
  {
   "cell_type": "code",
   "execution_count": 28,
   "metadata": {
    "colab": {},
    "colab_type": "code",
    "id": "1p3vbIoKep4U",
    "outputId": "8442928a-95fd-4496-d707-53d5ec7ac2f6"
   },
   "outputs": [
    {
     "data": {
      "text/plain": [
       "nan"
      ]
     },
     "execution_count": 28,
     "metadata": {},
     "output_type": "execute_result"
    }
   ],
   "source": [
    "np.std(y_with_nan, ddof=1)"
   ]
  },
  {
   "cell_type": "code",
   "execution_count": 29,
   "metadata": {
    "colab": {},
    "colab_type": "code",
    "id": "qHK1TfNqep4Z",
    "outputId": "b705e820-b838-467b-cc46-985e1c9fc45d"
   },
   "outputs": [
    {
     "data": {
      "text/plain": [
       "nan"
      ]
     },
     "execution_count": 29,
     "metadata": {},
     "output_type": "execute_result"
    }
   ],
   "source": [
    "y_with_nan.std(ddof=1)"
   ]
  },
  {
   "cell_type": "code",
   "execution_count": 30,
   "metadata": {
    "colab": {},
    "colab_type": "code",
    "id": "dS1TFZRTep4b",
    "outputId": "46164c25-b7d5-4e8e-8fdb-47d8fa182dea"
   },
   "outputs": [
    {
     "data": {
      "text/plain": [
       "11.099549540409285"
      ]
     },
     "execution_count": 30,
     "metadata": {},
     "output_type": "execute_result"
    }
   ],
   "source": [
    "np.nanstd(y_with_nan, ddof=1)"
   ]
  },
  {
   "cell_type": "markdown",
   "metadata": {
    "colab_type": "text",
    "id": "HfNQ5iLeep4d"
   },
   "source": [
    "Don’t forget to set the **_delta degrees_** of **_freedom_** to **_1_**!"
   ]
  },
  {
   "cell_type": "markdown",
   "metadata": {
    "colab_type": "text",
    "id": "4iDQHL5Aep4d"
   },
   "source": [
    "**_pd.Series objects_** also have the method **_.std()_** that skips **_nan_** by default:"
   ]
  },
  {
   "cell_type": "code",
   "execution_count": null,
   "metadata": {
    "colab": {},
    "colab_type": "code",
    "id": "I3-ZBi59ep4d",
    "outputId": "1ce3ca72-aaeb-422f-e256-1be3b86ef80a"
   },
   "outputs": [
    {
     "data": {
      "text/plain": [
       "11.099549540409285"
      ]
     },
     "execution_count": 86,
     "metadata": {
      "tags": []
     },
     "output_type": "execute_result"
    }
   ],
   "source": [
    "z.std(ddof=1)"
   ]
  },
  {
   "cell_type": "code",
   "execution_count": null,
   "metadata": {
    "colab": {},
    "colab_type": "code",
    "id": "hhoNDzmYep4g",
    "outputId": "83172338-3645-4cfb-93d7-69f48b887626"
   },
   "outputs": [
    {
     "data": {
      "text/plain": [
       "11.099549540409285"
      ]
     },
     "execution_count": 87,
     "metadata": {
      "tags": []
     },
     "output_type": "execute_result"
    }
   ],
   "source": [
    "z_with_nan.std(ddof=1)"
   ]
  },
  {
   "cell_type": "markdown",
   "metadata": {
    "colab_type": "text",
    "id": "Uf1hUYJaep4i"
   },
   "source": [
    "The parameter **_ddof_** defaults to **_1_**, so you can omit it."
   ]
  },
  {
   "cell_type": "markdown",
   "metadata": {
    "colab_type": "text",
    "id": "2g7UgC7Mep4i"
   },
   "source": [
    "# Population standard deviation\n",
    "\n",
    "The **_population standard deviation_** refers to the **_entire population_**. It’s the **_positive square root_** of the **_population variance_**. You can calculate it just like the **_sample standard deviation_**, with the following differences:\n",
    "\n",
    "- Find the **_square root_** of the **_population variance_** in the pure Python implementation.\n",
    "- Use **_statistics.pstdev()_** instead of **_statistics.stdev()_**.\n",
    "- Specify the parameter **_ddof=0_** if you use **_NumPy_** or **_Pandas_**. In **_NumPy_**, you can omit ddof because its default value is **_0_**."
   ]
  },
  {
   "cell_type": "markdown",
   "metadata": {
    "colab_type": "text",
    "id": "vm8lJ9xpep4z"
   },
   "source": [
    "# Percentiles\n",
    "\n",
    "The **sample 𝑝 percentile** is the element in the dataset such that **𝑝%** of the elements in the dataset are **less** than or **equal** to that **value**. Also, **(100 − 𝑝)%** of the elements are **greater** than or **equal** to that **value**. If there are two such elements in the dataset, then the **sample 𝑝 percentile** is their **arithmetic mean**. Each dataset has **three quartiles**, which are the **percentiles** that divide the dataset into **four parts**:\n",
    "\n",
    "- The **first quartile** is the **sample 25th percentile**. It divides roughly **25%** of the smallest items from the rest of the dataset.\n",
    "- The **second quartile** is the **sample 50th percentile** or the **median**. Approximately **25%** of the items lie between the **first** and **second quartiles** and another **25%** between the **second** and **third quartiles**.\n",
    "- The **third quartile** is the **sample 75th percentile**. It divides roughly **25%** of the largest items from the rest of the dataset."
   ]
  },
  {
   "cell_type": "markdown",
   "metadata": {
    "colab_type": "text",
    "id": "E-7YTEdnep4z"
   },
   "source": [
    "You can also use **np.percentile()** to determine any sample percentile in your dataset. For example, this is how you can find the 5th and 95th percentiles:"
   ]
  },
  {
   "cell_type": "code",
   "execution_count": 38,
   "metadata": {},
   "outputs": [
    {
     "name": "stdout",
     "output_type": "stream",
     "text": [
      "20.0\n"
     ]
    }
   ],
   "source": [
    "from scipy.stats import binom\n",
    "m, s, k, v = binom.stats(n=50, p=0.4, moments='mskv')\n",
    "print(m)"
   ]
  },
  {
   "cell_type": "code",
   "execution_count": 39,
   "metadata": {
    "colab": {},
    "colab_type": "code",
    "id": "QLCCa8-Mep40",
    "outputId": "b5c10559-8e6c-4399-a582-bc93b19ccb76"
   },
   "outputs": [
    {
     "data": {
      "text/plain": [
       "-3.44"
      ]
     },
     "execution_count": 39,
     "metadata": {},
     "output_type": "execute_result"
    }
   ],
   "source": [
    "x = [-5.0, -1.1, 0.1, 2.0, 8.0, 12.8, 21.0, 25.8, 41.0]\n",
    "y = np.array(x)\n",
    "np.percentile(y, 5)"
   ]
  },
  {
   "cell_type": "code",
   "execution_count": null,
   "metadata": {
    "colab": {},
    "colab_type": "code",
    "id": "_ULGXmQMep41",
    "outputId": "654684a1-0140-43e8-db99-43331082c0f1"
   },
   "outputs": [
    {
     "data": {
      "text/plain": [
       "34.919999999999995"
      ]
     },
     "execution_count": 96,
     "metadata": {
      "tags": []
     },
     "output_type": "execute_result"
    }
   ],
   "source": [
    "np.percentile(y, 95)"
   ]
  },
  {
   "cell_type": "markdown",
   "metadata": {
    "colab_type": "text",
    "id": "EMCRqsDWep43"
   },
   "source": [
    "**percentile()** takes several arguments. You have to provide the dataset as the first argument and the percentile value as the second. The dataset can be in the form of a **NumPy array**, **list**, **tuple**, or similar **data structure**. The percentile can be a number between 0 and 100 like in the example above, but it can also be a sequence of numbers:\n",
    "\n"
   ]
  },
  {
   "cell_type": "code",
   "execution_count": null,
   "metadata": {
    "colab": {},
    "colab_type": "code",
    "id": "D5XgqEngep43",
    "outputId": "4490cf8f-f8f3-4140-ae1b-d4e87473465c"
   },
   "outputs": [
    {
     "data": {
      "text/plain": [
       "array([ 0.1,  8. , 21. ])"
      ]
     },
     "execution_count": 100,
     "metadata": {
      "tags": []
     },
     "output_type": "execute_result"
    }
   ],
   "source": [
    "np.percentile(y, [25, 50, 75])"
   ]
  },
  {
   "cell_type": "code",
   "execution_count": null,
   "metadata": {
    "colab": {},
    "colab_type": "code",
    "id": "6reU4sYFep47",
    "outputId": "6c45ae40-f67a-4477-9b9a-9d8300b6abda"
   },
   "outputs": [
    {
     "data": {
      "text/plain": [
       "8.0"
      ]
     },
     "execution_count": 99,
     "metadata": {
      "tags": []
     },
     "output_type": "execute_result"
    }
   ],
   "source": [
    "np.median(y)"
   ]
  },
  {
   "cell_type": "markdown",
   "metadata": {
    "colab_type": "text",
    "id": "mJvhgUwtep4-"
   },
   "source": [
    "This code calculates the **25th, 50th, and 75th percentiles** all at once. If the percentile value is a sequence, then percentile() returns a NumPy array with the results. The first statement returns the array of quartiles. The second statement returns the median, so you can confirm it’s equal to the **50th percentile**, which is **8.0**."
   ]
  },
  {
   "cell_type": "markdown",
   "metadata": {
    "colab_type": "text",
    "id": "uQWiwcMGep4_"
   },
   "source": [
    "If you want to ignore **nan values**, then use **np.nanpercentile()** instead:"
   ]
  },
  {
   "cell_type": "code",
   "execution_count": null,
   "metadata": {
    "colab": {},
    "colab_type": "code",
    "id": "NvN1I6zJep4_",
    "outputId": "e3160a2a-3c65-48a5-c227-828cb77d2e3c"
   },
   "outputs": [
    {
     "data": {
      "text/plain": [
       "array([-5. , -1.1,  nan,  0.1,  2. ,  8. , 12.8, 21. , 25.8, 41. ])"
      ]
     },
     "execution_count": 101,
     "metadata": {
      "tags": []
     },
     "output_type": "execute_result"
    }
   ],
   "source": [
    "y_with_nan = np.insert(y, 2, np.nan)\n",
    "y_with_nan"
   ]
  },
  {
   "cell_type": "code",
   "execution_count": null,
   "metadata": {
    "colab": {},
    "colab_type": "code",
    "id": "7_rzNRnrep5C",
    "outputId": "ed6d4453-693b-471c-b722-f09c9fb29b82"
   },
   "outputs": [
    {
     "data": {
      "text/plain": [
       "array([ 0.1,  8. , 21. ])"
      ]
     },
     "execution_count": 102,
     "metadata": {
      "tags": []
     },
     "output_type": "execute_result"
    }
   ],
   "source": [
    "np.nanpercentile(y_with_nan, [25, 50, 75])"
   ]
  },
  {
   "cell_type": "markdown",
   "metadata": {
    "colab_type": "text",
    "id": "bQVsdWZbep5F"
   },
   "source": [
    "**NumPy** also offers you very similar functionality in **quantile()** and **nanquantile()**. If you use them, then you’ll need to provide the quantile values as the numbers between **0** and **1** instead of percentiles:"
   ]
  },
  {
   "cell_type": "code",
   "execution_count": null,
   "metadata": {
    "colab": {},
    "colab_type": "code",
    "id": "w-L7weWZep5F",
    "outputId": "1f0c2047-bbd2-4462-8a04-7fa4fc0578aa"
   },
   "outputs": [
    {
     "data": {
      "text/plain": [
       "-3.44"
      ]
     },
     "execution_count": 103,
     "metadata": {
      "tags": []
     },
     "output_type": "execute_result"
    }
   ],
   "source": [
    "np.quantile(y, 0.05)"
   ]
  },
  {
   "cell_type": "code",
   "execution_count": null,
   "metadata": {
    "colab": {},
    "colab_type": "code",
    "id": "MKqcdOs4ep5H",
    "outputId": "3baf1485-13c4-4809-a73f-e39048b3bb22"
   },
   "outputs": [
    {
     "data": {
      "text/plain": [
       "34.919999999999995"
      ]
     },
     "execution_count": 104,
     "metadata": {
      "tags": []
     },
     "output_type": "execute_result"
    }
   ],
   "source": [
    "np.quantile(y, 0.95)"
   ]
  },
  {
   "cell_type": "code",
   "execution_count": null,
   "metadata": {
    "colab": {},
    "colab_type": "code",
    "id": "XVjEdDD1ep5K",
    "outputId": "1982c86d-af88-4dce-a8b8-f8eeb1eb78c6"
   },
   "outputs": [
    {
     "data": {
      "text/plain": [
       "array([ 0.1,  8. , 21. ])"
      ]
     },
     "execution_count": 105,
     "metadata": {
      "tags": []
     },
     "output_type": "execute_result"
    }
   ],
   "source": [
    "np.quantile(y, [0.25, 0.5, 0.75])"
   ]
  },
  {
   "cell_type": "code",
   "execution_count": null,
   "metadata": {
    "colab": {},
    "colab_type": "code",
    "id": "1BROW2Kyep5M",
    "outputId": "6f3bc0d3-1534-43e8-8719-90b3b1d99dd0"
   },
   "outputs": [
    {
     "data": {
      "text/plain": [
       "array([ 0.1,  8. , 21. ])"
      ]
     },
     "execution_count": 106,
     "metadata": {
      "tags": []
     },
     "output_type": "execute_result"
    }
   ],
   "source": [
    "np.nanquantile(y_with_nan, [0.25, 0.5, 0.75])"
   ]
  },
  {
   "cell_type": "markdown",
   "metadata": {
    "colab_type": "text",
    "id": "XSOxOK3dep5O"
   },
   "source": [
    "**pd.Series** objects have the **method .quantile()**:"
   ]
  },
  {
   "cell_type": "code",
   "execution_count": 41,
   "metadata": {
    "colab": {},
    "colab_type": "code",
    "id": "1yU8NlfDep5O",
    "outputId": "ccd09602-0807-49fd-9b51-8aa6a021a11a"
   },
   "outputs": [
    {
     "data": {
      "text/plain": [
       "-3.44"
      ]
     },
     "execution_count": 41,
     "metadata": {},
     "output_type": "execute_result"
    }
   ],
   "source": [
    "z, z_with_nan = pd.Series(y), pd.Series(y_with_nan)\n",
    "z.quantile(0.05)"
   ]
  },
  {
   "cell_type": "code",
   "execution_count": 45,
   "metadata": {
    "colab": {},
    "colab_type": "code",
    "id": "tGtjcBpKep5Q",
    "outputId": "08888ac9-53d5-464b-859a-b3b3796fc2e9"
   },
   "outputs": [
    {
     "data": {
      "text/plain": [
       "34.919999999999995"
      ]
     },
     "execution_count": 45,
     "metadata": {},
     "output_type": "execute_result"
    }
   ],
   "source": [
    "z.quantile(0.95)"
   ]
  },
  {
   "cell_type": "code",
   "execution_count": null,
   "metadata": {
    "colab": {},
    "colab_type": "code",
    "id": "0W5qP2Seep5R",
    "outputId": "6b42647b-ec41-4df9-aba4-2fdd5a9e092d"
   },
   "outputs": [
    {
     "data": {
      "text/plain": [
       "0.25     0.1\n",
       "0.50     8.0\n",
       "0.75    21.0\n",
       "dtype: float64"
      ]
     },
     "execution_count": 109,
     "metadata": {
      "tags": []
     },
     "output_type": "execute_result"
    }
   ],
   "source": [
    "z.quantile([0.25, 0.5, 0.75])"
   ]
  },
  {
   "cell_type": "code",
   "execution_count": null,
   "metadata": {
    "colab": {},
    "colab_type": "code",
    "id": "5o2G1mRgep5T",
    "outputId": "730a0fb7-b269-45ea-966c-b31094982d41"
   },
   "outputs": [
    {
     "data": {
      "text/plain": [
       "0.25     0.1\n",
       "0.50     8.0\n",
       "0.75    21.0\n",
       "dtype: float64"
      ]
     },
     "execution_count": 110,
     "metadata": {
      "tags": []
     },
     "output_type": "execute_result"
    }
   ],
   "source": [
    "z_with_nan.quantile([0.25, 0.5, 0.75])"
   ]
  },
  {
   "cell_type": "markdown",
   "metadata": {
    "colab_type": "text",
    "id": "4Ww6TDSzep5W"
   },
   "source": [
    "# Ranges\n",
    "\n",
    "The **range** of data is the **difference** between the **maximum** and **minimum element** in the dataset. You can get it with the function **np.ptp()**:"
   ]
  },
  {
   "cell_type": "code",
   "execution_count": null,
   "metadata": {
    "colab": {},
    "colab_type": "code",
    "id": "TKlAa0h4ep5X",
    "outputId": "54637f5e-7141-4647-abde-0208855be597"
   },
   "outputs": [
    {
     "data": {
      "text/plain": [
       "46.0"
      ]
     },
     "execution_count": 111,
     "metadata": {
      "tags": []
     },
     "output_type": "execute_result"
    }
   ],
   "source": [
    "np.ptp(y)"
   ]
  },
  {
   "cell_type": "code",
   "execution_count": null,
   "metadata": {
    "colab": {},
    "colab_type": "code",
    "id": "F0oPRU3oep5Z",
    "outputId": "904f5a2d-3a4f-4262-b826-3a897be9967e"
   },
   "outputs": [
    {
     "data": {
      "text/plain": [
       "46.0"
      ]
     },
     "execution_count": 112,
     "metadata": {
      "tags": []
     },
     "output_type": "execute_result"
    }
   ],
   "source": [
    "np.ptp(z)"
   ]
  },
  {
   "cell_type": "code",
   "execution_count": null,
   "metadata": {
    "colab": {},
    "colab_type": "code",
    "id": "jCEHtVPuep5d",
    "outputId": "a02d8ca9-e696-4a5b-e8ca-43436a3246b4"
   },
   "outputs": [
    {
     "data": {
      "text/plain": [
       "nan"
      ]
     },
     "execution_count": 113,
     "metadata": {
      "tags": []
     },
     "output_type": "execute_result"
    }
   ],
   "source": [
    "np.ptp(y_with_nan)"
   ]
  },
  {
   "cell_type": "code",
   "execution_count": null,
   "metadata": {
    "colab": {},
    "colab_type": "code",
    "id": "sLw-v5v3ep5f",
    "outputId": "d08cba23-3383-4661-9c43-5994ad6d292c"
   },
   "outputs": [
    {
     "data": {
      "text/plain": [
       "46.0"
      ]
     },
     "execution_count": 114,
     "metadata": {
      "tags": []
     },
     "output_type": "execute_result"
    }
   ],
   "source": [
    "np.ptp(z_with_nan)"
   ]
  },
  {
   "cell_type": "markdown",
   "metadata": {
    "colab_type": "text",
    "id": "KMdNVMHQep5h"
   },
   "source": [
    "This function returns nan if there are nan values in your NumPy array. If you use a Pandas Series object, then it will return a number."
   ]
  },
  {
   "cell_type": "markdown",
   "metadata": {
    "colab_type": "text",
    "id": "DdmmvYlDep5i"
   },
   "source": [
    "Alternatively, you can use built-in Python, NumPy, or Pandas functions and methods to calculate the **maxima** and **minima** of sequences:"
   ]
  },
  {
   "cell_type": "markdown",
   "metadata": {
    "colab_type": "text",
    "id": "bqg1RDSoep5i"
   },
   "source": [
    "- **max()** and **min()** from the Python standard library\n",
    "- **amax()** and **amin()** from NumPy\n",
    "- **nanmax()** and **nanmin()** from NumPy to ignore nan values\n",
    "- **max()** and **.min()** from NumPy\n",
    "- **max()** and **.min()** from Pandas to ignore nan values by default"
   ]
  },
  {
   "cell_type": "markdown",
   "metadata": {
    "colab_type": "text",
    "id": "P8kP8t8Rep5i"
   },
   "source": [
    "Here are some examples of how you would use these routines:"
   ]
  },
  {
   "cell_type": "code",
   "execution_count": null,
   "metadata": {
    "colab": {},
    "colab_type": "code",
    "id": "siw8aFokep5i",
    "outputId": "d02770ce-dbf3-47df-d7d9-94281d3a92b3"
   },
   "outputs": [
    {
     "data": {
      "text/plain": [
       "46.0"
      ]
     },
     "execution_count": 115,
     "metadata": {
      "tags": []
     },
     "output_type": "execute_result"
    }
   ],
   "source": [
    "np.amax(y) - np.amin(y)"
   ]
  },
  {
   "cell_type": "code",
   "execution_count": null,
   "metadata": {
    "colab": {},
    "colab_type": "code",
    "id": "686KTKYOep5k",
    "outputId": "64bb6cfe-d443-4041-d123-af84fc129328"
   },
   "outputs": [
    {
     "data": {
      "text/plain": [
       "46.0"
      ]
     },
     "execution_count": 116,
     "metadata": {
      "tags": []
     },
     "output_type": "execute_result"
    }
   ],
   "source": [
    "np.nanmax(y_with_nan) - np.nanmin(y_with_nan)"
   ]
  },
  {
   "cell_type": "code",
   "execution_count": null,
   "metadata": {
    "colab": {},
    "colab_type": "code",
    "id": "TEiL10j_ep5m",
    "outputId": "29ea1d13-d879-440a-d6fa-95e2eca650d8"
   },
   "outputs": [
    {
     "data": {
      "text/plain": [
       "46.0"
      ]
     },
     "execution_count": 117,
     "metadata": {
      "tags": []
     },
     "output_type": "execute_result"
    }
   ],
   "source": [
    "y.max() - y.min()"
   ]
  },
  {
   "cell_type": "code",
   "execution_count": null,
   "metadata": {
    "colab": {},
    "colab_type": "code",
    "id": "fKWfs-N3ep5n",
    "outputId": "e443e9b6-bcd3-4b7a-8169-b2ea6197c2c8"
   },
   "outputs": [
    {
     "data": {
      "text/plain": [
       "46.0"
      ]
     },
     "execution_count": 118,
     "metadata": {
      "tags": []
     },
     "output_type": "execute_result"
    }
   ],
   "source": [
    "z.max() - z.min()"
   ]
  },
  {
   "cell_type": "code",
   "execution_count": null,
   "metadata": {
    "colab": {},
    "colab_type": "code",
    "id": "I2PTa8qhep5p",
    "outputId": "a3e2f705-ee1a-444d-96e0-191b711fbc46"
   },
   "outputs": [
    {
     "data": {
      "text/plain": [
       "46.0"
      ]
     },
     "execution_count": 119,
     "metadata": {
      "tags": []
     },
     "output_type": "execute_result"
    }
   ],
   "source": [
    "z_with_nan.max() - z_with_nan.min()"
   ]
  },
  {
   "cell_type": "markdown",
   "metadata": {
    "colab_type": "text",
    "id": "17MvOjvDep5v"
   },
   "source": [
    "That’s how you get the range of data."
   ]
  },
  {
   "cell_type": "markdown",
   "metadata": {
    "colab_type": "text",
    "id": "h0SBvsI7ep5w"
   },
   "source": [
    "# Summary of Descriptive Statistics\n",
    "\n",
    "**SciPy** and **Pandas** offer useful routines to quickly get **descriptive statistics** with a single function or method call. You can use **scipy.stats.describe()** like this:\n",
    "\n"
   ]
  },
  {
   "cell_type": "code",
   "execution_count": null,
   "metadata": {
    "colab": {},
    "colab_type": "code",
    "id": "1w_Gpl_Pep5w",
    "outputId": "c139a90f-e26a-42cc-9ac1-9c0b4cd300fe"
   },
   "outputs": [
    {
     "data": {
      "text/plain": [
       "DescribeResult(nobs=9, minmax=(-5.0, 41.0), mean=11.622222222222222, variance=228.75194444444446, skewness=0.9249043136685094, kurtosis=0.14770623629658886)"
      ]
     },
     "execution_count": 120,
     "metadata": {
      "tags": []
     },
     "output_type": "execute_result"
    }
   ],
   "source": [
    "result = scipy.stats.describe(y, ddof=1, bias=False)\n",
    "result"
   ]
  },
  {
   "cell_type": "markdown",
   "metadata": {
    "colab_type": "text",
    "id": "E9ORHVIgep5z"
   },
   "source": [
    "You have to provide the dataset as the first argument. The argument can be a NumPy array, list, tuple, or similar data structure. You can omit ddof=1 since it’s the default and only matters when you’re calculating the variance. You can pass bias=False to force correcting the skewness and kurtosis for statistical bias."
   ]
  },
  {
   "cell_type": "markdown",
   "metadata": {
    "colab_type": "text",
    "id": "SeNnzvFBep5z"
   },
   "source": [
    "**describe()** returns an object that holds the following descriptive statistics:"
   ]
  },
  {
   "cell_type": "markdown",
   "metadata": {
    "colab_type": "text",
    "id": "gd8VneYNep50"
   },
   "source": [
    "- **nobs**: the number of observations or elements in your dataset\n",
    "- **minmax**: the tuple with the minimum and maximum values of your dataset\n",
    "- **mean**: the mean of your dataset\n",
    "- **variance**: the variance of your dataset\n",
    "- **skewness**: the skewness of your dataset\n",
    "- **kurtosis**: the kurtosis of your dataset"
   ]
  },
  {
   "cell_type": "markdown",
   "metadata": {
    "colab_type": "text",
    "id": "CL19XUMeep50"
   },
   "source": [
    "Pandas has similar, if not better, functionality. Series objects have the method **.describe()**:"
   ]
  },
  {
   "cell_type": "code",
   "execution_count": null,
   "metadata": {
    "colab": {},
    "colab_type": "code",
    "id": "tVZXX_SZep51",
    "outputId": "95be19f2-b66f-42d7-fd13-97e873c7a66b"
   },
   "outputs": [
    {
     "data": {
      "text/plain": [
       "count     9.000000\n",
       "mean     11.622222\n",
       "std      15.124548\n",
       "min      -5.000000\n",
       "25%       0.100000\n",
       "50%       8.000000\n",
       "75%      21.000000\n",
       "max      41.000000\n",
       "dtype: float64"
      ]
     },
     "execution_count": 122,
     "metadata": {
      "tags": []
     },
     "output_type": "execute_result"
    }
   ],
   "source": [
    "result = z.describe()\n",
    "result"
   ]
  },
  {
   "cell_type": "markdown",
   "metadata": {
    "colab_type": "text",
    "id": "BCeRicE8ep54"
   },
   "source": [
    "It returns a new Series that holds the following:\n",
    "\n",
    "- **count**: the number of elements in your dataset\n",
    "- **mean**: the mean of your dataset\n",
    "- **std**: the standard deviation of your dataset\n",
    "- **min** and **max**: the minimum and maximum values of your dataset\n",
    "- **25%**, **50%**, and **75%**: the quartiles of your dataset"
   ]
  },
  {
   "cell_type": "markdown",
   "metadata": {
    "colab_type": "text",
    "id": "cc-UT6b4ep56"
   },
   "source": [
    "# Covariance\n",
    "\n",
    "The **sample covariance** is a measure that quantifies the **strength** and **direction** of a relationship between a pair of variables:\n",
    "\n",
    "- **If the correlation is positive**, then the covariance is positive, as well. A stronger relationship corresponds to a higher value of the covariance.\n",
    "- **If the correlation is negative**, then the covariance is negative, as well. A stronger relationship corresponds to a lower (or higher absolute) value of the covariance.\n",
    "- **If the correlation is weak**, then the covariance is close to zero.\n",
    "\n",
    "The **covariance** of the variables **𝑥** and **𝑦** is mathematically defined as **𝑠ˣʸ = Σᵢ (𝑥ᵢ − mean(𝑥)) (𝑦ᵢ − mean(𝑦)) / (𝑛 − 1)**, where **𝑖 = 1, 2, …, 𝑛**, **mean(𝑥)** is the sample mean of **𝑥**, and **mean(𝑦)** is the sample mean of **𝑦**. It follows that the covariance of two identical variables is actually the variance: **𝑠ˣˣ = Σᵢ(𝑥ᵢ − mean(𝑥))² / (𝑛 − 1) = (𝑠ˣ)²** and **𝑠ʸʸ = Σᵢ(𝑦ᵢ − mean(𝑦))² / (𝑛 − 1) = (𝑠ʸ)²**."
   ]
  },
  {
   "cell_type": "markdown",
   "metadata": {
    "colab_type": "text",
    "id": "GxUbqoODep57"
   },
   "source": [
    "Let us calculate the covariance in pure python."
   ]
  },
  {
   "cell_type": "code",
   "execution_count": null,
   "metadata": {
    "colab": {},
    "colab_type": "code",
    "id": "3HjjuHIfep57",
    "outputId": "1d16d092-3d9f-4181-95b2-1662d7d23e7f"
   },
   "outputs": [
    {
     "data": {
      "text/plain": [
       "19.95"
      ]
     },
     "execution_count": 4,
     "metadata": {
      "tags": []
     },
     "output_type": "execute_result"
    }
   ],
   "source": [
    "n = len(x)\n",
    "mean_x, mean_y = sum(x) / n, sum(y) / n\n",
    "cov_xy = (sum((x[k] - mean_x) * (y[k] - mean_y) for k in range(n))\n",
    "          / (n - 1))\n",
    "cov_xy"
   ]
  },
  {
   "cell_type": "markdown",
   "metadata": {
    "colab_type": "text",
    "id": "1K6NDtxdep5-"
   },
   "source": [
    "NumPy has the function cov() that returns the covariance matrix:"
   ]
  },
  {
   "cell_type": "code",
   "execution_count": 46,
   "metadata": {
    "colab": {},
    "colab_type": "code",
    "id": "G0UF6f5Fep5_",
    "outputId": "42971520-7593-4c3c-e0cd-e73e9e6fd91b"
   },
   "outputs": [
    {
     "ename": "NameError",
     "evalue": "name 'x_' is not defined",
     "output_type": "error",
     "traceback": [
      "\u001b[1;31m---------------------------------------------------------------------------\u001b[0m",
      "\u001b[1;31mNameError\u001b[0m                                 Traceback (most recent call last)",
      "\u001b[1;32m<ipython-input-46-83d45ae23ddc>\u001b[0m in \u001b[0;36m<module>\u001b[1;34m\u001b[0m\n\u001b[1;32m----> 1\u001b[1;33m \u001b[0mcov_matrix\u001b[0m \u001b[1;33m=\u001b[0m \u001b[0mnp\u001b[0m\u001b[1;33m.\u001b[0m\u001b[0mcov\u001b[0m\u001b[1;33m(\u001b[0m\u001b[0mx_\u001b[0m\u001b[1;33m,\u001b[0m \u001b[0my_\u001b[0m\u001b[1;33m)\u001b[0m\u001b[1;33m\u001b[0m\u001b[1;33m\u001b[0m\u001b[0m\n\u001b[0m\u001b[0;32m      2\u001b[0m \u001b[0mcov_matrix\u001b[0m\u001b[1;33m\u001b[0m\u001b[1;33m\u001b[0m\u001b[0m\n",
      "\u001b[1;31mNameError\u001b[0m: name 'x_' is not defined"
     ]
    }
   ],
   "source": [
    "cov_matrix = np.cov(x_, y_)\n",
    "cov_matrix"
   ]
  },
  {
   "cell_type": "markdown",
   "metadata": {
    "colab_type": "text",
    "id": "rnc0Vp5Zep6B"
   },
   "source": [
    "The upper-left element of the **covariance matrix** is the **covariance** of **x** and **x**, or the **variance** of **x**. Similarly, the lower-right element is the **covariance** of **y** and **y**, or the variance of **y**. The other two elements of the **covariance matrix** are equal and represent the actual **covariance** between **x** and **y**:"
   ]
  },
  {
   "cell_type": "markdown",
   "metadata": {
    "colab_type": "text",
    "id": "4Wp3YgYBep6B"
   },
   "source": [
    "Pandas Series have the method **.cov()** that you can use to calculate the covariance:"
   ]
  },
  {
   "cell_type": "code",
   "execution_count": null,
   "metadata": {
    "colab": {},
    "colab_type": "code",
    "id": "AM1tzYY3ep6B",
    "outputId": "df677c7f-6b72-4788-8c08-f65af467468e"
   },
   "outputs": [
    {
     "data": {
      "text/plain": [
       "19.95"
      ]
     },
     "execution_count": 6,
     "metadata": {
      "tags": []
     },
     "output_type": "execute_result"
    }
   ],
   "source": [
    "cov_xy = x__.cov(y__)\n",
    "cov_xy"
   ]
  },
  {
   "cell_type": "code",
   "execution_count": null,
   "metadata": {
    "colab": {},
    "colab_type": "code",
    "id": "hk8wfy8-ep6G",
    "outputId": "a7c59a67-e21d-4aeb-c0a2-a11adbead1ef"
   },
   "outputs": [
    {
     "data": {
      "text/plain": [
       "19.95"
      ]
     },
     "execution_count": 7,
     "metadata": {
      "tags": []
     },
     "output_type": "execute_result"
    }
   ],
   "source": [
    "cov_xy = y__.cov(x__)\n",
    "cov_xy"
   ]
  },
  {
   "cell_type": "markdown",
   "metadata": {
    "colab_type": "text",
    "id": "GLTvnws8ep6H"
   },
   "source": [
    "# Correlation Coefficient\n",
    "\n",
    "The **correlation coefficient**, or **Pearson product-moment correlation coefficient**, is denoted by the symbol **_𝑟_**. It is another measure of the correlation between data. It as a standardized covariance. Here are some important facts about it:"
   ]
  },
  {
   "cell_type": "markdown",
   "metadata": {
    "colab_type": "text",
    "id": "auFsNDmtep6I"
   },
   "source": [
    "- The value **_𝑟 > 0_** indicates **positive correlation**.\n",
    "- The value **_𝑟 < 0_** indicates **negative correlation**.\n",
    "- The value **_r = 1_** is the maximum possible value of **_𝑟_**. It corresponds to a perfect positive linear relationship between variables.\n",
    "- The value **_r = −1_** is the minimum possible value of **_𝑟_**. It corresponds to a perfect negative linear relationship between variables.\n",
    "- The value **_r ≈ 0_**, or when **_𝑟_** is around zero, means that the correlation between variables is **weak**."
   ]
  },
  {
   "cell_type": "markdown",
   "metadata": {
    "colab_type": "text",
    "id": "7EBhKjVSep6I"
   },
   "source": [
    "The mathematical formula for the correlation coefficient is **𝑟 = 𝑠ˣʸ / (𝑠ˣ𝑠ʸ)** where **𝑠ˣ** and **𝑠ʸ** are the standard deviations of **𝑥** and **𝑦** respectively. If you have the **means (mean_x and mean_y)** and **standard deviations (std_x, std_y)** for the datasets **x** and **y**, as well as their covariance **cov_xy**, then you can calculate the correlation coefficient with pure Python:"
   ]
  },
  {
   "cell_type": "code",
   "execution_count": null,
   "metadata": {
    "colab": {},
    "colab_type": "code",
    "id": "vo_hLTkwep6I",
    "outputId": "8369eba6-3d51-49be-8e3c-b7a0a3e3200b"
   },
   "outputs": [
    {
     "data": {
      "text/plain": [
       "0.861950005631606"
      ]
     },
     "execution_count": 8,
     "metadata": {
      "tags": []
     },
     "output_type": "execute_result"
    }
   ],
   "source": [
    "var_x = sum((item - mean_x)**2 for item in x) / (n - 1)\n",
    "var_y = sum((item - mean_y)**2 for item in y) / (n - 1)\n",
    "std_x, std_y = var_x ** 0.5, var_y ** 0.5\n",
    "r = cov_xy / (std_x * std_y)\n",
    "r"
   ]
  },
  {
   "cell_type": "markdown",
   "metadata": {
    "colab_type": "text",
    "id": "DsmLFGhqep6J"
   },
   "source": [
    "**scipy.stats** has the routine **pearsonr()** that calculates the **correlation coefficient** and the **𝑝-value**:"
   ]
  },
  {
   "cell_type": "code",
   "execution_count": null,
   "metadata": {
    "colab": {},
    "colab_type": "code",
    "id": "JH9Gh8hyep6J",
    "outputId": "a66b2ef8-7da6-43d9-efcb-317a156b5894"
   },
   "outputs": [
    {
     "data": {
      "text/plain": [
       "(0.8619500056316061, 5.122760847201132e-07)"
      ]
     },
     "execution_count": 10,
     "metadata": {
      "tags": []
     },
     "output_type": "execute_result"
    }
   ],
   "source": [
    "r, p = scipy.stats.pearsonr(x_, y_)\n",
    "r, p"
   ]
  },
  {
   "cell_type": "markdown",
   "metadata": {
    "colab_type": "text",
    "id": "3K2EpDonep6L"
   },
   "source": [
    "**pearsonr()** returns a tuple with two numbers. The first one is **𝑟** and the second is the **𝑝-value**."
   ]
  },
  {
   "cell_type": "markdown",
   "metadata": {
    "colab_type": "text",
    "id": "y6Z5JLPaep6L"
   },
   "source": [
    "Similar to the case of the covariance matrix, you can apply **np.corrcoef()** with x_ and y_ as the arguments and get the **correlation coefficient matrix**:"
   ]
  },
  {
   "cell_type": "code",
   "execution_count": null,
   "metadata": {
    "colab": {},
    "colab_type": "code",
    "id": "JDhf20J4ep6L",
    "outputId": "eecdc177-faba-4f52-88a6-ecb92d8f9cc6"
   },
   "outputs": [
    {
     "data": {
      "text/plain": [
       "array([[1.        , 0.86195001],\n",
       "       [0.86195001, 1.        ]])"
      ]
     },
     "execution_count": 11,
     "metadata": {
      "tags": []
     },
     "output_type": "execute_result"
    }
   ],
   "source": [
    "corr_matrix = np.corrcoef(x_, y_)\n",
    "corr_matrix"
   ]
  },
  {
   "cell_type": "markdown",
   "metadata": {
    "colab_type": "text",
    "id": "2g6gZnvUep6M"
   },
   "source": [
    "The upper-left element is the correlation coefficient between x_ and x_. The lower-right element is the correlation coefficient between y_ and y_. Their values are equal to 1.0. The other two elements are equal and represent the actual correlation coefficient between x_ and y_:"
   ]
  },
  {
   "cell_type": "markdown",
   "metadata": {
    "colab_type": "text",
    "id": "JrMk1Hjeep6N"
   },
   "source": [
    "Pandas Series have the method **.corr()** for calculating the correlation coefficient:"
   ]
  },
  {
   "cell_type": "markdown",
   "metadata": {
    "colab_type": "text",
    "id": "nIxUiVraep6N"
   },
   "source": [
    "# Visualizing Data\n",
    "\n",
    "In addition to calculating the numerical quantities like mean, median, or variance, you can use visual methods to present, describe, and summarize data. In this section, you’ll learn how to present your data visually using the following graphs:\n",
    "\n",
    "- Box plots\n",
    "- Histograms\n",
    "- Pie charts\n",
    "- Bar charts\n",
    "- X-Y plots"
   ]
  },
  {
   "cell_type": "markdown",
   "metadata": {
    "colab_type": "text",
    "id": "qzVwcwq1ep6N"
   },
   "source": [
    "**matplotlib.pyplot** is a very convenient and widely-used library, though it’s not the only Python library available for this purpose. You can import it like this:"
   ]
  },
  {
   "cell_type": "code",
   "execution_count": 47,
   "metadata": {
    "colab": {},
    "colab_type": "code",
    "id": "n3vLgs8bep6O"
   },
   "outputs": [],
   "source": [
    "import matplotlib.pyplot as plt\n",
    "plt.style.use('ggplot')"
   ]
  },
  {
   "cell_type": "markdown",
   "metadata": {
    "colab_type": "text",
    "id": "EkQumRRUep6Q"
   },
   "source": [
    "# Box Plots\n",
    "\n",
    "The **box plot** is an excellent tool to visually represent descriptive statistics of a given dataset. It can show the range, interquartile range, median, mode, outliers, and all quartiles. First, create some data to represent with a box plot:"
   ]
  },
  {
   "cell_type": "code",
   "execution_count": 48,
   "metadata": {
    "colab": {},
    "colab_type": "code",
    "id": "M7eOgrjOep6Q"
   },
   "outputs": [],
   "source": [
    "np.random.seed(seed=0)\n",
    "x = np.random.randn(1000)\n",
    "y = np.random.randn(100)\n",
    "z = np.random.randn(10)"
   ]
  },
  {
   "cell_type": "markdown",
   "metadata": {
    "colab_type": "text",
    "id": "ElUN55u4ep6S"
   },
   "source": [
    "The first statement sets the seed of the NumPy random number generator with **seed()**, so you can get the same results each time you run the code. You don’t have to set the seed, but if you don’t specify this value, then you’ll get different results each time.\n",
    "\n",
    "The other statements generate three NumPy arrays with normally distributed pseudo-random numbers. x refers to the array with 1000 items, y has 100, and z contains 10 items. Now that you have the data to work with, you can apply .boxplot() to get the box plot:"
   ]
  },
  {
   "cell_type": "code",
   "execution_count": 49,
   "metadata": {
    "colab": {},
    "colab_type": "code",
    "id": "lxbqJo-Gep6S",
    "outputId": "ed63e6fc-635b-4dda-b394-41203bf648c8"
   },
   "outputs": [
    {
     "data": {
      "image/png": "[encoded data removed]",
      "text/plain": [
       "<Figure size 432x288 with 1 Axes>"
      ]
     },
     "metadata": {
      "needs_background": "light"
     },
     "output_type": "display_data"
    }
   ],
   "source": [
    "fig, ax = plt.subplots()\n",
    "ax.boxplot((x, y, z), vert=False, showmeans=True, meanline=True,\n",
    "           labels=('x', 'y', 'z'), patch_artist=True,\n",
    "           medianprops={'linewidth': 2, 'color': 'purple'},\n",
    "           meanprops={'linewidth': 2, 'color': 'red'})\n",
    "plt.show()"
   ]
  },
  {
   "cell_type": "markdown",
   "metadata": {
    "colab_type": "text",
    "id": "bGZYthI1ep6T"
   },
   "source": [
    "The parameters of .boxplot() define the following:\n",
    "\n",
    "- **x** is your data.\n",
    "- **vert** sets the plot orientation to horizontal when False. The default orientation is vertical.\n",
    "- **showmeans** shows the mean of your data when True.\n",
    "- **meanline** represents the mean as a line when True. The default representation is a point.\n",
    "- **labels**: the labels of your data.\n",
    "- **patch_artist** determines how to draw the graph.\n",
    "- **medianprops** denotes the properties of the line representing the median.\n",
    "- **meanprops** indicates the properties of the line or dot representing the mean."
   ]
  },
  {
   "cell_type": "markdown",
   "metadata": {
    "colab_type": "text",
    "id": "dg--NHGDep6T"
   },
   "source": [
    "We have three box plots here. Each of them corresponds to a single dataset (x, y, or z) and show the following:\n",
    "\n",
    "- The **mean** is the red dashed line.\n",
    "- The **median** is the purple line.\n",
    "- The **first quartile** is the left edge of the blue rectangle.\n",
    "- The **third quartile** is the right edge of the blue rectangle.\n",
    "- The **interquartile** range is the length of the blue rectangle.\n",
    "- The **range** contains everything from left to right.\n",
    "- The **outliers** are the dots to the left and right."
   ]
  },
  {
   "cell_type": "markdown",
   "metadata": {
    "colab_type": "text",
    "id": "uPEPLOqKep6U"
   },
   "source": [
    "# Histograms\n",
    "\n",
    "**Histograms** are particularly useful when there are a large number of unique values in a dataset. The histogram divides the values from a sorted dataset into intervals, also called **bins**. Often, all bins are of equal width, though this doesn’t have to be the case. The values of the lower and upper bounds of a bin are called the **bin edges**.\n",
    "\n",
    "A **histogram** is a great tool for quickly assessing a probability distribution that is intuitively understood by almost any audience.\n",
    "\n",
    "The **frequency** is a single value that corresponds to each bin. It’s the number of elements of the dataset with the values between the edges of the bin. By convention, all bins but the rightmost one are half-open. They include the values equal to the lower bounds, but exclude the values equal to the upper bounds. The rightmost bin is closed because it includes both bounds. If you divide a dataset with the bin edges 0, 5, 10, and 15, then there are three bins:\n",
    "\n",
    "- The **first and leftmost bin** contains the values greater than or equal to 0 and less than 5.\n",
    "- The **second bin** contains the values greater than or equal to 5 and less than 10.\n",
    "- The **third and rightmost bin** contains the values greater than or equal to 10 and less than or equal to 15."
   ]
  },
  {
   "cell_type": "markdown",
   "metadata": {
    "colab_type": "text",
    "id": "ps3ooknlep6U"
   },
   "source": [
    "The function **np.histogram()** is a convenient way to get data for histograms:"
   ]
  },
  {
   "cell_type": "code",
   "execution_count": 50,
   "metadata": {
    "colab": {},
    "colab_type": "code",
    "id": "OWVRWn54ep6U",
    "outputId": "75a789bf-948e-4a1c-88d0-912d196b3fca"
   },
   "outputs": [
    {
     "data": {
      "text/plain": [
       "array([  9,  20,  70, 146, 217, 239, 160,  86,  38,  15], dtype=int64)"
      ]
     },
     "execution_count": 50,
     "metadata": {},
     "output_type": "execute_result"
    }
   ],
   "source": [
    "hist, bin_edges = np.histogram(x, bins=10)\n",
    "hist"
   ]
  },
  {
   "cell_type": "code",
   "execution_count": 51,
   "metadata": {
    "colab": {},
    "colab_type": "code",
    "id": "bBKxwGUUep6V",
    "outputId": "3087060c-e2a0-4b72-c613-6721dda05d76"
   },
   "outputs": [
    {
     "data": {
      "text/plain": [
       "array([-3.04614305, -2.46559324, -1.88504342, -1.3044936 , -0.72394379,\n",
       "       -0.14339397,  0.43715585,  1.01770566,  1.59825548,  2.1788053 ,\n",
       "        2.75935511])"
      ]
     },
     "execution_count": 51,
     "metadata": {},
     "output_type": "execute_result"
    }
   ],
   "source": [
    "bin_edges"
   ]
  },
  {
   "cell_type": "markdown",
   "metadata": {
    "colab_type": "text",
    "id": "ZxT8ROReep6W"
   },
   "source": [
    "It takes the array with your data and the number (or edges) of bins and returns two NumPy arrays:\n",
    "\n",
    "- **hist** contains the frequency or the number of items corresponding to each bin.\n",
    "- **bin_edges** contains the edges or bounds of the bin."
   ]
  },
  {
   "cell_type": "markdown",
   "metadata": {
    "colab_type": "text",
    "id": "AOx3FJG-ep6W"
   },
   "source": [
    "What **_histogram()_** calculates, **_.hist()_** can show graphically:"
   ]
  },
  {
   "cell_type": "code",
   "execution_count": 55,
   "metadata": {
    "colab": {},
    "colab_type": "code",
    "id": "7HqASQ5Rep6Y",
    "outputId": "e6d3c0fd-9d59-46a0-ed62-79f0697de8ce"
   },
   "outputs": [
    {
     "data": {
      "image/png": "[encoded data removed]",
      "text/plain": [
       "<Figure size 432x288 with 1 Axes>"
      ]
     },
     "metadata": {
      "needs_background": "light"
     },
     "output_type": "display_data"
    }
   ],
   "source": [
    "fig, ax = plt.subplots()\n",
    "ax.hist(x, bin_edges, cumulative=False)\n",
    "ax.set_xlabel('x')\n",
    "ax.set_ylabel('Frequency')\n",
    "plt.show()"
   ]
  },
  {
   "cell_type": "markdown",
   "metadata": {
    "colab_type": "text",
    "id": "cPiJ_tsAep6a"
   },
   "source": [
    "The first argument of **_.hist()_** is the sequence with your data. The second argument defines the edges of the bins. The third disables the option to create a histogram with cumulative values. "
   ]
  },
  {
   "cell_type": "markdown",
   "metadata": {
    "colab_type": "text",
    "id": "dymFqbZ3ep6a"
   },
   "source": [
    "It’s possible to get the histogram with the cumulative numbers of items if you provide the argument **_cumulative=True_** to **_.hist()_**:"
   ]
  },
  {
   "cell_type": "code",
   "execution_count": 56,
   "metadata": {
    "colab": {},
    "colab_type": "code",
    "id": "wZJIEvG_ep6b",
    "outputId": "993bc746-9ec7-4196-c50d-608dce0bb838"
   },
   "outputs": [
    {
     "data": {
      "image/png": "[encoded data removed]",
      "text/plain": [
       "<Figure size 432x288 with 1 Axes>"
      ]
     },
     "metadata": {
      "needs_background": "light"
     },
     "output_type": "display_data"
    }
   ],
   "source": [
    "fig, ax = plt.subplots()\n",
    "ax.hist(x, bin_edges, cumulative=True)\n",
    "ax.set_xlabel('x')\n",
    "ax.set_ylabel('Frequency')\n",
    "plt.show()"
   ]
  },
  {
   "cell_type": "markdown",
   "metadata": {
    "colab_type": "text",
    "id": "tC1Ua2lVep6c"
   },
   "source": [
    "It shows the histogram with the cumulative values. The frequency of the first and leftmost bin is the number of items in this bin. The frequency of the second bin is the sum of the numbers of items in the first and second bins. The other bins follow this same pattern. Finally, the frequency of the last and rightmost bin is the total number of items in the dataset (in this case, 1000). "
   ]
  },
  {
   "cell_type": "markdown",
   "metadata": {
    "colab_type": "text",
    "id": "YeGozmTeep6c"
   },
   "source": [
    "# Pie Charts\n",
    "\n",
    "**Pie charts** represent data with a small number of labels and given relative frequencies. They work well even with the labels that can’t be ordered (like nominal data). A pie chart is a circle divided into multiple slices. Each slice corresponds to a single distinct label from the dataset and has an area proportional to the relative frequency associated with that label."
   ]
  },
  {
   "cell_type": "markdown",
   "metadata": {
    "colab_type": "text",
    "id": "tEX4fX9Gep6c"
   },
   "source": [
    "Let’s define data associated to three labels:"
   ]
  },
  {
   "cell_type": "code",
   "execution_count": null,
   "metadata": {
    "colab": {},
    "colab_type": "code",
    "id": "_g3NtLU5ep6d"
   },
   "outputs": [],
   "source": [
    "x, y, z = 128, 256, 1024"
   ]
  },
  {
   "cell_type": "markdown",
   "metadata": {
    "colab_type": "text",
    "id": "h6LtAHVdep6e"
   },
   "source": [
    "Now, create a pie chart with **.pie()**:"
   ]
  },
  {
   "cell_type": "code",
   "execution_count": null,
   "metadata": {
    "colab": {},
    "colab_type": "code",
    "id": "gfEbR_V9ep6e",
    "outputId": "2786d972-b0fc-4857-8787-781912b1bc5b"
   },
   "outputs": [
    {
     "data": {
      "image/png": "[encoded data removed]",
      "text/plain": [
       "<matplotlib.figure.Figure at 0x7fca885bba20>"
      ]
     },
     "metadata": {
      "tags": []
     },
     "output_type": "display_data"
    }
   ],
   "source": [
    "fig, ax = plt.subplots()\n",
    "ax.pie((x, y, z), labels=('x', 'y', 'z'), autopct='%1.1f%%')\n",
    "plt.show()"
   ]
  },
  {
   "cell_type": "markdown",
   "metadata": {
    "colab_type": "text",
    "id": "ZwYtNYJWep6f"
   },
   "source": [
    "The first argument of **.pie()** is your data, and the second is the sequence of the corresponding labels. autopct defines the format of the relative frequencies shown on the figure."
   ]
  },
  {
   "cell_type": "markdown",
   "metadata": {
    "colab_type": "text",
    "id": "9ZgA0G_cep6f"
   },
   "source": [
    "The **pie chart** shows **x** as the **smallest** part of the circle, **y** as the **next largest**, and then **z** as the **largest** part. The percentages denote the relative size of each value compared to their sum."
   ]
  },
  {
   "cell_type": "markdown",
   "metadata": {},
   "source": [
    "# References\n",
    "\n",
    "https://www.datavedas.com/descriptive-statistics-in-python/\n",
    "\n",
    "https://realpython.com/"
   ]
  },
  {
   "cell_type": "code",
   "execution_count": null,
   "metadata": {},
   "outputs": [],
   "source": []
  }
 ],
 "metadata": {
  "colab": {
   "name": "Stat_tutorial1.ipynb",
   "provenance": []
  },
  "kernelspec": {
   "display_name": "Python 3",
   "language": "python",
   "name": "python3"
  },
  "language_info": {
   "codemirror_mode": {
    "name": "ipython",
    "version": 3
   },
   "file_extension": ".py",
   "mimetype": "text/x-python",
   "name": "python",
   "nbconvert_exporter": "python",
   "pygments_lexer": "ipython3",
   "version": "3.7.4"
  }
 },
 "nbformat": 4,
 "nbformat_minor": 1
}
