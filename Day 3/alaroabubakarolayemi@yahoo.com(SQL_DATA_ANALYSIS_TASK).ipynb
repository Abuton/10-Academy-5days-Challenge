{
 "cells": [
  {
   "cell_type": "markdown",
   "metadata": {},
   "source": [
    "# SQL DATA ANALYSIS TASK"
   ]
  },
  {
   "cell_type": "markdown",
   "metadata": {},
   "source": [
    "# Context\n",
    "Fenix is a company that is in renewable energy. To this end, it sells solar kits to populations who are in need. Customers have the option of paying for the kit in cash or on credit. If the customer chooses to buy on credit, he can choose between one year (360 days) or two years (720). He is then asked to pay an amount per day (daily_rate), this amount depending on the duration of the loan and the type of kit he has chosen and corresponds to a day of light. So every time he pays that amount, he has a day of light. After 24 hours the system hangs and it has to make another payment to take advantage of the light. He can decide to pay for more than one day of light. The day number is then the whole part of the amount / daily rate ratio. After this number of days, the system still locks. When a customer spends more than 30 days without light, he is considered inactive. Paid vs Expected (PvE) means the ratio between the total amount paid by the client and the amount he should have paid up to date. It allows to appreciate the recovery."
   ]
  },
  {
   "cell_type": "markdown",
   "metadata": {},
   "source": [
    "Let's consider the following tables\n",
    "\n",
    "Loan_current_daitails\n",
    "\n",
    "loan_id\t|customer_id|daily_rate|days_elapsed|Days_til_lock_out|Total_paid\n",
    "--------|-----------|----------|------------|-----------------|----------\n",
    "loan_id_1|customer_id_1|daily_rate_1|days_elapsed_1|Days_til_lock_out_1|Total_paid_1\n",
    "loan_id_2|customer_id_2|daily_rate_2|days_elapsed_2|Days_til_lock_out_2|Total_paid_2\n",
    ".........|.............|............|..............|...................|............\n",
    "loan_id_n|customer_id_n\t|daily_rate_n|days_elapsed_n|Days_til_lock_out_n|Total_paid_n\n",
    "\n",
    "\n",
    "Person_democraphic\n",
    "\n",
    "customer_id\t|country|\tregion|\tprofession\n",
    "------------|-------|---------|-----------\n",
    "customer_id_1|\tCountry_1\t|Region_1\t|profession_1\n",
    ".............|\t............|..........\t|............\n",
    "customer_id_j|\tCountry_j|\tRegion_j\t|profession_j\n",
    "\n",
    "\n",
    "Sales_details\n",
    "\n",
    "loan_id\t|Product_type\t|Date_fullfiled\t|loan_duration\n",
    "--------|----------------|--------------|-------------\n",
    "loan_id_1\t|Product_type_1\t|Date_fullfiled_1\t|loan_duration_1\n",
    "...|\t...\t|...\t|...\n",
    "loan_id_n|\tProduct_type_n|\tDate_fullfiled_n|\tloan_duration_n"
   ]
  },
  {
   "cell_type": "markdown",
   "metadata": {},
   "source": [
    "### Tables description\n",
    "\n",
    "* **Loan_id:** unique loan identifier\n",
    "\n",
    "* **Customer_id:** unique customer identifier\n",
    "\n",
    "* **Days_elapsed:** the number of days the client spends with us\n",
    "\n",
    "* **Daily_rate:** expected amount from customer per day\n",
    "\n",
    "* **Days_til_lock_out:** If positive, then corresponds to the number of days of light remaining before the system hangs. If negative, corresponds to the number of days since the system was blocked (the client has been without light since this number of days)\n",
    "\n",
    "* **Total_paid:** total amount to be paid by the customer\n",
    "\n",
    "* **Country:** Customer's country\n",
    "\n",
    "* **Region:** customer department\n",
    "\n",
    "* **Profession:** client's profession\n",
    "\n",
    "* **Product_type:** the type of kit purchased by the customer\n",
    "\n",
    "* **Loan_duration:** the duration of the customer's loan (360 or 720 days)\n",
    "\n",
    "* **Date_fullfiled:** the date of the sale"
   ]
  },
  {
   "cell_type": "markdown",
   "metadata": {},
   "source": [
    "### The datasets\n",
    "The datasets exist in csv formats and can be downloaded and saved on disk"
   ]
  },
  {
   "cell_type": "code",
   "execution_count": 1,
   "metadata": {},
   "outputs": [],
   "source": [
    "%load_ext sql\n",
    "%sql sqlite:///testdb.sqlite"
   ]
  },
  {
   "cell_type": "code",
   "execution_count": 2,
   "metadata": {},
   "outputs": [
    {
     "name": "stdout",
     "output_type": "stream",
     "text": [
      " * sqlite:///testdb.sqlite\n",
      "Done.\n",
      "Done.\n",
      "Done.\n"
     ]
    },
    {
     "data": {
      "text/plain": [
       "[]"
      ]
     },
     "execution_count": 2,
     "metadata": {},
     "output_type": "execute_result"
    }
   ],
   "source": [
    "%%sql\n",
    "DROP TABLE IF EXISTS Loan_current_daitails;\n",
    "DROP TABLE IF EXISTS Person_democraphic;\n",
    "DROP TABLE IF EXISTS Sales_details;"
   ]
  },
  {
   "cell_type": "code",
   "execution_count": 3,
   "metadata": {},
   "outputs": [
    {
     "name": "stderr",
     "output_type": "stream",
     "text": [
      "c:\\users\\abuton\\appdata\\local\\programs\\python\\python37\\lib\\site-packages\\pandas\\core\\generic.py:2663: UserWarning: The spaces in these column names will not be changed. In pandas versions < 0.14, spaces were converted to underscores.\n",
      "  method=method,\n"
     ]
    }
   ],
   "source": [
    "import pandas as pd\n",
    "import sqlite3\n",
    "\n",
    "conn = sqlite3.connect(\"testdb.sqlite\")\n",
    "customers = pd.read_csv('data/Loan_current_daitails.csv')\n",
    "orders = pd.read_csv('data/Person_democraphic.csv')\n",
    "salesman = pd.read_csv('data/Sales_details.csv')\n",
    "orders.columns = orders.columns.str.replace('Profession ', 'Profession')\n",
    "\n",
    "customers.to_sql(\"Loan_current_daitails\", conn, index=False, if_exists=\"replace\")\n",
    "orders.to_sql(\"Person_democraphic\", conn, index=False, if_exists=\"replace\")\n",
    "salesman.to_sql(\"Sales_details\", conn, index=False, if_exists=\"replace\")"
   ]
  },
  {
   "cell_type": "code",
   "execution_count": 4,
   "metadata": {},
   "outputs": [
    {
     "data": {
      "text/plain": [
       "Index(['customer_id', 'country', 'region', 'Profession', 'Unnamed: 4',\n",
       "       'Unnamed: 5', 'Unnamed: 6', 'Unnamed: 7'],\n",
       "      dtype='object')"
      ]
     },
     "execution_count": 4,
     "metadata": {},
     "output_type": "execute_result"
    }
   ],
   "source": [
    "orders.columns"
   ]
  },
  {
   "cell_type": "code",
   "execution_count": 5,
   "metadata": {},
   "outputs": [
    {
     "data": {
      "text/html": [
       "<div>\n",
       "<style scoped>\n",
       "    .dataframe tbody tr th:only-of-type {\n",
       "        vertical-align: middle;\n",
       "    }\n",
       "\n",
       "    .dataframe tbody tr th {\n",
       "        vertical-align: top;\n",
       "    }\n",
       "\n",
       "    .dataframe thead th {\n",
       "        text-align: right;\n",
       "    }\n",
       "</style>\n",
       "<table border=\"1\" class=\"dataframe\">\n",
       "  <thead>\n",
       "    <tr style=\"text-align: right;\">\n",
       "      <th></th>\n",
       "      <th>loan_id</th>\n",
       "      <th>customer_id</th>\n",
       "      <th>daily_rate</th>\n",
       "      <th>days_elapsed</th>\n",
       "      <th>days_til_lockout</th>\n",
       "      <th>total_paid</th>\n",
       "    </tr>\n",
       "  </thead>\n",
       "  <tbody>\n",
       "    <tr>\n",
       "      <th>0</th>\n",
       "      <td>589556</td>\n",
       "      <td>1351176</td>\n",
       "      <td>270</td>\n",
       "      <td>265</td>\n",
       "      <td>-13</td>\n",
       "      <td>52355</td>\n",
       "    </tr>\n",
       "    <tr>\n",
       "      <th>1</th>\n",
       "      <td>586196</td>\n",
       "      <td>1344957</td>\n",
       "      <td>160</td>\n",
       "      <td>268</td>\n",
       "      <td>-46</td>\n",
       "      <td>24160</td>\n",
       "    </tr>\n",
       "  </tbody>\n",
       "</table>\n",
       "</div>"
      ],
      "text/plain": [
       "   loan_id  customer_id  daily_rate  days_elapsed  days_til_lockout  \\\n",
       "0   589556      1351176         270           265               -13   \n",
       "1   586196      1344957         160           268               -46   \n",
       "\n",
       "   total_paid  \n",
       "0       52355  \n",
       "1       24160  "
      ]
     },
     "execution_count": 5,
     "metadata": {},
     "output_type": "execute_result"
    }
   ],
   "source": [
    "customers.head(2)"
   ]
  },
  {
   "cell_type": "code",
   "execution_count": 6,
   "metadata": {},
   "outputs": [
    {
     "data": {
      "text/html": [
       "<div>\n",
       "<style scoped>\n",
       "    .dataframe tbody tr th:only-of-type {\n",
       "        vertical-align: middle;\n",
       "    }\n",
       "\n",
       "    .dataframe tbody tr th {\n",
       "        vertical-align: top;\n",
       "    }\n",
       "\n",
       "    .dataframe thead th {\n",
       "        text-align: right;\n",
       "    }\n",
       "</style>\n",
       "<table border=\"1\" class=\"dataframe\">\n",
       "  <thead>\n",
       "    <tr style=\"text-align: right;\">\n",
       "      <th></th>\n",
       "      <th>customer_id</th>\n",
       "      <th>country</th>\n",
       "      <th>region</th>\n",
       "      <th>Profession</th>\n",
       "      <th>Unnamed: 4</th>\n",
       "      <th>Unnamed: 5</th>\n",
       "      <th>Unnamed: 6</th>\n",
       "      <th>Unnamed: 7</th>\n",
       "    </tr>\n",
       "  </thead>\n",
       "  <tbody>\n",
       "    <tr>\n",
       "      <th>0</th>\n",
       "      <td>1351176</td>\n",
       "      <td>Benin</td>\n",
       "      <td>Oueme</td>\n",
       "      <td>Tehnician</td>\n",
       "      <td>NaN</td>\n",
       "      <td>NaN</td>\n",
       "      <td>NaN</td>\n",
       "      <td>NaN</td>\n",
       "    </tr>\n",
       "    <tr>\n",
       "      <th>1</th>\n",
       "      <td>1344957</td>\n",
       "      <td>Benin</td>\n",
       "      <td>Alibori</td>\n",
       "      <td>Doctor</td>\n",
       "      <td>NaN</td>\n",
       "      <td>NaN</td>\n",
       "      <td>NaN</td>\n",
       "      <td>NaN</td>\n",
       "    </tr>\n",
       "  </tbody>\n",
       "</table>\n",
       "</div>"
      ],
      "text/plain": [
       "   customer_id country   region Profession  Unnamed: 4  Unnamed: 5  \\\n",
       "0      1351176   Benin    Oueme  Tehnician         NaN         NaN   \n",
       "1      1344957   Benin  Alibori     Doctor         NaN         NaN   \n",
       "\n",
       "   Unnamed: 6  Unnamed: 7  \n",
       "0         NaN         NaN  \n",
       "1         NaN         NaN  "
      ]
     },
     "execution_count": 6,
     "metadata": {},
     "output_type": "execute_result"
    }
   ],
   "source": [
    "orders.head(2)"
   ]
  },
  {
   "cell_type": "code",
   "execution_count": 7,
   "metadata": {},
   "outputs": [
    {
     "data": {
      "text/html": [
       "<div>\n",
       "<style scoped>\n",
       "    .dataframe tbody tr th:only-of-type {\n",
       "        vertical-align: middle;\n",
       "    }\n",
       "\n",
       "    .dataframe tbody tr th {\n",
       "        vertical-align: top;\n",
       "    }\n",
       "\n",
       "    .dataframe thead th {\n",
       "        text-align: right;\n",
       "    }\n",
       "</style>\n",
       "<table border=\"1\" class=\"dataframe\">\n",
       "  <thead>\n",
       "    <tr style=\"text-align: right;\">\n",
       "      <th></th>\n",
       "      <th>loan_id</th>\n",
       "      <th>product_type</th>\n",
       "      <th>date_fulfilled_utc</th>\n",
       "      <th>Unnamed: 3</th>\n",
       "      <th>Unnamed: 4</th>\n",
       "      <th>Unnamed: 5</th>\n",
       "      <th>Unnamed: 6</th>\n",
       "    </tr>\n",
       "  </thead>\n",
       "  <tbody>\n",
       "    <tr>\n",
       "      <th>0</th>\n",
       "      <td>589556</td>\n",
       "      <td>Fenix 3</td>\n",
       "      <td>6/5/19 10:45</td>\n",
       "      <td>NaN</td>\n",
       "      <td>NaN</td>\n",
       "      <td>NaN</td>\n",
       "      <td>NaN</td>\n",
       "    </tr>\n",
       "  </tbody>\n",
       "</table>\n",
       "</div>"
      ],
      "text/plain": [
       "   loan_id product_type date_fulfilled_utc  Unnamed: 3  Unnamed: 4  \\\n",
       "0   589556      Fenix 3       6/5/19 10:45         NaN         NaN   \n",
       "\n",
       "   Unnamed: 5  Unnamed: 6  \n",
       "0         NaN         NaN  "
      ]
     },
     "execution_count": 7,
     "metadata": {},
     "output_type": "execute_result"
    }
   ],
   "source": [
    " salesman.head(1)"
   ]
  },
  {
   "cell_type": "markdown",
   "metadata": {},
   "source": [
    "### Write a SQL code to determine the total number of loans on the one hand and the total number of customers on the other"
   ]
  },
  {
   "cell_type": "code",
   "execution_count": 8,
   "metadata": {},
   "outputs": [
    {
     "name": "stdout",
     "output_type": "stream",
     "text": [
      " * sqlite:///testdb.sqlite\n",
      "Done.\n"
     ]
    },
    {
     "data": {
      "text/html": [
       "<table>\n",
       "    <tr>\n",
       "        <th>total_no_of_loans</th>\n",
       "        <th>total_no_of_customers</th>\n",
       "    </tr>\n",
       "    <tr>\n",
       "        <td>5000</td>\n",
       "        <td>4979</td>\n",
       "    </tr>\n",
       "</table>"
      ],
      "text/plain": [
       "[(5000, 4979)]"
      ]
     },
     "execution_count": 8,
     "metadata": {},
     "output_type": "execute_result"
    }
   ],
   "source": [
    "%%sql\n",
    "-- # write here\n",
    "SELECT COUNT(DISTINCT(loan_id)) total_no_of_loans, COUNT(DISTINCT(customer_id)) total_no_of_customers\n",
    "    FROM Loan_current_daitails;"
   ]
  },
  {
   "cell_type": "markdown",
   "metadata": {},
   "source": [
    "### Write a SQL code to determine the total number of loans by type of kit"
   ]
  },
  {
   "cell_type": "code",
   "execution_count": 9,
   "metadata": {},
   "outputs": [
    {
     "name": "stdout",
     "output_type": "stream",
     "text": [
      " * sqlite:///testdb.sqlite\n",
      "Done.\n"
     ]
    },
    {
     "data": {
      "text/html": [
       "<table>\n",
       "    <tr>\n",
       "        <th>product_type</th>\n",
       "        <th>loan_count</th>\n",
       "    </tr>\n",
       "    <tr>\n",
       "        <td>Fenix 2</td>\n",
       "        <td>841</td>\n",
       "    </tr>\n",
       "    <tr>\n",
       "        <td>Fenix 3</td>\n",
       "        <td>974</td>\n",
       "    </tr>\n",
       "    <tr>\n",
       "        <td>Fenix Power 2+ Tondeuse</td>\n",
       "        <td>18</td>\n",
       "    </tr>\n",
       "    <tr>\n",
       "        <td>Fenix Power 4 + Woofer BJ</td>\n",
       "        <td>35</td>\n",
       "    </tr>\n",
       "    <tr>\n",
       "        <td>Fenix Power TV 19in FTA BJ</td>\n",
       "        <td>14</td>\n",
       "    </tr>\n",
       "    <tr>\n",
       "        <td>Fenix Power TV 19in FTA Upgrade, BJ</td>\n",
       "        <td>28</td>\n",
       "    </tr>\n",
       "    <tr>\n",
       "        <td>Fenix Power TV 24in FTA BJ</td>\n",
       "        <td>634</td>\n",
       "    </tr>\n",
       "    <tr>\n",
       "        <td>Fenix Power TV 24in FTA Upgrade, BJ</td>\n",
       "        <td>177</td>\n",
       "    </tr>\n",
       "    <tr>\n",
       "        <td>Fenix Radio +3</td>\n",
       "        <td>1791</td>\n",
       "    </tr>\n",
       "    <tr>\n",
       "        <td>Fenix Radio +5</td>\n",
       "        <td>422</td>\n",
       "    </tr>\n",
       "    <tr>\n",
       "        <td>Fenix Woofer +3</td>\n",
       "        <td>32</td>\n",
       "    </tr>\n",
       "    <tr>\n",
       "        <td>Fenix Woofer +3 (NEW)</td>\n",
       "        <td>8</td>\n",
       "    </tr>\n",
       "    <tr>\n",
       "        <td>Hors Garantie BJ</td>\n",
       "        <td>14</td>\n",
       "    </tr>\n",
       "    <tr>\n",
       "        <td>Out-of-warranty swap - SmartLife</td>\n",
       "        <td>2</td>\n",
       "    </tr>\n",
       "    <tr>\n",
       "        <td>Upgrade Fenix Boost 2 + Tondeuse</td>\n",
       "        <td>2</td>\n",
       "    </tr>\n",
       "    <tr>\n",
       "        <td>Upgrade Fenix Radio +3</td>\n",
       "        <td>5</td>\n",
       "    </tr>\n",
       "    <tr>\n",
       "        <td>Upgrade Fenix Woofer +1</td>\n",
       "        <td>1</td>\n",
       "    </tr>\n",
       "    <tr>\n",
       "        <td>Upgrade Fenix Woofer+2 BJ</td>\n",
       "        <td>2</td>\n",
       "    </tr>\n",
       "</table>"
      ],
      "text/plain": [
       "[('Fenix 2', 841),\n",
       " ('Fenix 3', 974),\n",
       " ('Fenix Power 2+ Tondeuse', 18),\n",
       " ('Fenix Power 4 + Woofer BJ', 35),\n",
       " ('Fenix Power TV 19in FTA BJ', 14),\n",
       " ('Fenix Power TV 19in FTA Upgrade, BJ', 28),\n",
       " ('Fenix Power TV 24in FTA BJ', 634),\n",
       " ('Fenix Power TV 24in FTA Upgrade, BJ', 177),\n",
       " ('Fenix Radio +3', 1791),\n",
       " ('Fenix Radio +5', 422),\n",
       " ('Fenix Woofer +3', 32),\n",
       " ('Fenix Woofer +3 (NEW)', 8),\n",
       " ('Hors Garantie BJ', 14),\n",
       " ('Out-of-warranty swap - SmartLife', 2),\n",
       " ('Upgrade Fenix Boost 2 + Tondeuse', 2),\n",
       " ('Upgrade Fenix Radio +3', 5),\n",
       " ('Upgrade Fenix Woofer +1', 1),\n",
       " ('Upgrade Fenix Woofer+2 BJ', 2)]"
      ]
     },
     "execution_count": 9,
     "metadata": {},
     "output_type": "execute_result"
    }
   ],
   "source": [
    "%%sql\n",
    "-- # write here\n",
    "SELECT product_type, COUNT(DISTINCT(loan_id)) loan_count\n",
    "    FROM Sales_details\n",
    "    GROUP BY product_type"
   ]
  },
  {
   "cell_type": "markdown",
   "metadata": {},
   "source": [
    "### Write SQL code to determine the number of inactive loans"
   ]
  },
  {
   "cell_type": "code",
   "execution_count": 10,
   "metadata": {},
   "outputs": [
    {
     "name": "stdout",
     "output_type": "stream",
     "text": [
      " * sqlite:///testdb.sqlite\n",
      "Done.\n"
     ]
    },
    {
     "data": {
      "text/html": [
       "<table>\n",
       "    <tr>\n",
       "        <th>number_of_inactive_loan</th>\n",
       "    </tr>\n",
       "    <tr>\n",
       "        <td>4361</td>\n",
       "    </tr>\n",
       "</table>"
      ],
      "text/plain": [
       "[(4361,)]"
      ]
     },
     "execution_count": 10,
     "metadata": {},
     "output_type": "execute_result"
    }
   ],
   "source": [
    "%%sql\n",
    "-- # write here\n",
    "\n",
    "SELECT COUNT(loan_id) number_of_inactive_loan\n",
    "    FROM Loan_current_daitails\n",
    "    WHERE days_til_lockout > -30"
   ]
  },
  {
   "cell_type": "markdown",
   "metadata": {},
   "source": [
    "### Write a SQL code to determine the regions where the total amount of payments exceeds 1,000,000"
   ]
  },
  {
   "cell_type": "code",
   "execution_count": 11,
   "metadata": {},
   "outputs": [
    {
     "name": "stdout",
     "output_type": "stream",
     "text": [
      " * sqlite:///testdb.sqlite\n",
      "Done.\n"
     ]
    },
    {
     "data": {
      "text/html": [
       "<table>\n",
       "    <tr>\n",
       "        <th>amount</th>\n",
       "        <th>region</th>\n",
       "    </tr>\n",
       "</table>"
      ],
      "text/plain": [
       "[]"
      ]
     },
     "execution_count": 11,
     "metadata": {},
     "output_type": "execute_result"
    }
   ],
   "source": [
    "%%sql\n",
    "-- # write here\n",
    "SELECT l.total_paid amount, p.region\n",
    "    FROM Loan_current_daitails l, Person_democraphic p\n",
    "    WHERE l.customer_id = p.customer_id AND amount > 1000000"
   ]
  },
  {
   "cell_type": "markdown",
   "metadata": {},
   "source": [
    "### Write a SQL code to classify by region and in ascending order, the loans according to the total amount paid"
   ]
  },
  {
   "cell_type": "code",
   "execution_count": 12,
   "metadata": {},
   "outputs": [
    {
     "name": "stdout",
     "output_type": "stream",
     "text": [
      " * sqlite:///testdb.sqlite\n",
      "Done.\n"
     ]
    },
    {
     "data": {
      "text/html": [
       "<table>\n",
       "    <tr>\n",
       "        <th>region</th>\n",
       "        <th>total_paid</th>\n",
       "        <th>loan_id</th>\n",
       "    </tr>\n",
       "    <tr>\n",
       "        <td>Alibori</td>\n",
       "        <td>24160</td>\n",
       "        <td>586196</td>\n",
       "    </tr>\n",
       "    <tr>\n",
       "        <td>Atacora</td>\n",
       "        <td>14160</td>\n",
       "        <td>546198</td>\n",
       "    </tr>\n",
       "    <tr>\n",
       "        <td>Atlantique</td>\n",
       "        <td>13825</td>\n",
       "        <td>552403</td>\n",
       "    </tr>\n",
       "    <tr>\n",
       "        <td>Borgou</td>\n",
       "        <td>44200</td>\n",
       "        <td>565181</td>\n",
       "    </tr>\n",
       "    <tr>\n",
       "        <td>Collines</td>\n",
       "        <td>35970</td>\n",
       "        <td>617665</td>\n",
       "    </tr>\n",
       "    <tr>\n",
       "        <td>Couffo</td>\n",
       "        <td>51500</td>\n",
       "        <td>447804</td>\n",
       "    </tr>\n",
       "    <tr>\n",
       "        <td>Donga</td>\n",
       "        <td>51700</td>\n",
       "        <td>560165</td>\n",
       "    </tr>\n",
       "    <tr>\n",
       "        <td>Littoral</td>\n",
       "        <td>61000</td>\n",
       "        <td>598490</td>\n",
       "    </tr>\n",
       "    <tr>\n",
       "        <td>Mono</td>\n",
       "        <td>11400</td>\n",
       "        <td>798485</td>\n",
       "    </tr>\n",
       "    <tr>\n",
       "        <td>Oueme</td>\n",
       "        <td>52355</td>\n",
       "        <td>589556</td>\n",
       "    </tr>\n",
       "    <tr>\n",
       "        <td>Plateau</td>\n",
       "        <td>32325</td>\n",
       "        <td>653030</td>\n",
       "    </tr>\n",
       "    <tr>\n",
       "        <td>Zou</td>\n",
       "        <td>3000</td>\n",
       "        <td>891510</td>\n",
       "    </tr>\n",
       "</table>"
      ],
      "text/plain": [
       "[('Alibori', 24160, 586196),\n",
       " ('Atacora', 14160, 546198),\n",
       " ('Atlantique', 13825, 552403),\n",
       " ('Borgou', 44200, 565181),\n",
       " ('Collines', 35970, 617665),\n",
       " ('Couffo', 51500, 447804),\n",
       " ('Donga', 51700, 560165),\n",
       " ('Littoral', 61000, 598490),\n",
       " ('Mono', 11400, 798485),\n",
       " ('Oueme', 52355, 589556),\n",
       " ('Plateau', 32325, 653030),\n",
       " ('Zou', 3000, 891510)]"
      ]
     },
     "execution_count": 12,
     "metadata": {},
     "output_type": "execute_result"
    }
   ],
   "source": [
    "%%sql\n",
    "-- # write here\n",
    "SELECT p.region, l.total_paid, l.loan_id\n",
    "    FROM Loan_current_daitails l, Person_democraphic p\n",
    "    WHERE l.customer_id = p.customer_id\n",
    "    GROUP BY p.region"
   ]
  },
  {
   "cell_type": "markdown",
   "metadata": {},
   "source": [
    "\n",
    "### Write a SQL code to determine the top 10 occupations by region with the highest total amount of payments"
   ]
  },
  {
   "cell_type": "code",
   "execution_count": 13,
   "metadata": {},
   "outputs": [
    {
     "name": "stdout",
     "output_type": "stream",
     "text": [
      " * sqlite:///testdb.sqlite\n",
      "Done.\n"
     ]
    },
    {
     "data": {
      "text/html": [
       "<table>\n",
       "    <tr>\n",
       "        <th>region</th>\n",
       "        <th>Profession</th>\n",
       "        <th>total_amount_paid</th>\n",
       "    </tr>\n",
       "    <tr>\n",
       "        <td>Zou</td>\n",
       "        <td>Cmmercial</td>\n",
       "        <td>287850</td>\n",
       "    </tr>\n",
       "    <tr>\n",
       "        <td>Atacora</td>\n",
       "        <td>Security agent</td>\n",
       "        <td>280000</td>\n",
       "    </tr>\n",
       "    <tr>\n",
       "        <td>Atlantique</td>\n",
       "        <td>Teacher</td>\n",
       "        <td>280000</td>\n",
       "    </tr>\n",
       "    <tr>\n",
       "        <td>Littoral</td>\n",
       "        <td>Driver</td>\n",
       "        <td>280000</td>\n",
       "    </tr>\n",
       "    <tr>\n",
       "        <td>Donga</td>\n",
       "        <td>Statistian</td>\n",
       "        <td>252900</td>\n",
       "    </tr>\n",
       "    <tr>\n",
       "        <td>Borgou</td>\n",
       "        <td>Farmer</td>\n",
       "        <td>220000</td>\n",
       "    </tr>\n",
       "    <tr>\n",
       "        <td>Couffo</td>\n",
       "        <td>Nurse</td>\n",
       "        <td>212000</td>\n",
       "    </tr>\n",
       "    <tr>\n",
       "        <td>Plateau</td>\n",
       "        <td>Tehnician</td>\n",
       "        <td>212000</td>\n",
       "    </tr>\n",
       "    <tr>\n",
       "        <td>Oueme</td>\n",
       "        <td>Cmmercial</td>\n",
       "        <td>172711</td>\n",
       "    </tr>\n",
       "    <tr>\n",
       "        <td>Collines</td>\n",
       "        <td>Teacher</td>\n",
       "        <td>168395</td>\n",
       "    </tr>\n",
       "</table>"
      ],
      "text/plain": [
       "[('Zou', 'Cmmercial', 287850),\n",
       " ('Atacora', 'Security agent', 280000),\n",
       " ('Atlantique', 'Teacher', 280000),\n",
       " ('Littoral', 'Driver', 280000),\n",
       " ('Donga', 'Statistian', 252900),\n",
       " ('Borgou', 'Farmer', 220000),\n",
       " ('Couffo', 'Nurse', 212000),\n",
       " ('Plateau', 'Tehnician', 212000),\n",
       " ('Oueme', 'Cmmercial', 172711),\n",
       " ('Collines', 'Teacher', 168395)]"
      ]
     },
     "execution_count": 13,
     "metadata": {},
     "output_type": "execute_result"
    }
   ],
   "source": [
    "%%sql\n",
    "-- # write here\n",
    "SELECT p.region, p.Profession, MAX(l.total_paid) as total_amount_paid\n",
    "    FROM Person_democraphic p, Loan_current_daitails l\n",
    "    WHERE p.customer_id = l.customer_id\n",
    "    GROUP BY region\n",
    "    ORDER BY total_amount_paid DESC\n",
    "    LIMIT 10;"
   ]
  },
  {
   "cell_type": "code",
   "execution_count": null,
   "metadata": {},
   "outputs": [],
   "source": []
  }
 ],
 "metadata": {
  "kernelspec": {
   "display_name": "Python 3",
   "language": "python",
   "name": "python3"
  },
  "language_info": {
   "codemirror_mode": {
    "name": "ipython",
    "version": 3
   },
   "file_extension": ".py",
   "mimetype": "text/x-python",
   "name": "python",
   "nbconvert_exporter": "python",
   "pygments_lexer": "ipython3",
   "version": "3.7.4"
  }
 },
 "nbformat": 4,
 "nbformat_minor": 4
}
